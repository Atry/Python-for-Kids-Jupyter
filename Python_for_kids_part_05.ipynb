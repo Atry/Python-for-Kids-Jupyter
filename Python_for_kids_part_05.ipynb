{
  "nbformat": 4,
  "nbformat_minor": 0,
  "metadata": {
    "colab": {
      "provenance": [],
      "authorship_tag": "ABX9TyPLQ49ZztI8wR91qc7q6O5j",
      "include_colab_link": true
    },
    "kernelspec": {
      "name": "python3",
      "display_name": "Python 3"
    },
    "language_info": {
      "name": "python"
    },
    "widgets": {
      "application/vnd.jupyter.widget-state+json": {
        "2177da3333224a89bd838b0dcf17dd72": {
          "model_module": "@jupyter-widgets/controls",
          "model_name": "FloatTextModel",
          "model_module_version": "1.5.0",
          "state": {
            "_dom_classes": [],
            "_model_module": "@jupyter-widgets/controls",
            "_model_module_version": "1.5.0",
            "_model_name": "FloatTextModel",
            "_view_count": null,
            "_view_module": "@jupyter-widgets/controls",
            "_view_module_version": "1.5.0",
            "_view_name": "FloatTextView",
            "continuous_update": false,
            "description": "Fuel burn:",
            "description_tooltip": null,
            "disabled": false,
            "layout": "IPY_MODEL_c90b2cc7dbf94d83bd741635fd3ba78c",
            "step": null,
            "style": "IPY_MODEL_0e97c5437a3949bcb1008c03f44be011",
            "value": 10
          }
        },
        "c90b2cc7dbf94d83bd741635fd3ba78c": {
          "model_module": "@jupyter-widgets/base",
          "model_name": "LayoutModel",
          "model_module_version": "1.2.0",
          "state": {
            "_model_module": "@jupyter-widgets/base",
            "_model_module_version": "1.2.0",
            "_model_name": "LayoutModel",
            "_view_count": null,
            "_view_module": "@jupyter-widgets/base",
            "_view_module_version": "1.2.0",
            "_view_name": "LayoutView",
            "align_content": null,
            "align_items": null,
            "align_self": null,
            "border": null,
            "bottom": null,
            "display": null,
            "flex": null,
            "flex_flow": null,
            "grid_area": null,
            "grid_auto_columns": null,
            "grid_auto_flow": null,
            "grid_auto_rows": null,
            "grid_column": null,
            "grid_gap": null,
            "grid_row": null,
            "grid_template_areas": null,
            "grid_template_columns": null,
            "grid_template_rows": null,
            "height": null,
            "justify_content": null,
            "justify_items": null,
            "left": null,
            "margin": null,
            "max_height": null,
            "max_width": null,
            "min_height": null,
            "min_width": null,
            "object_fit": null,
            "object_position": null,
            "order": null,
            "overflow": null,
            "overflow_x": null,
            "overflow_y": null,
            "padding": null,
            "right": null,
            "top": null,
            "visibility": null,
            "width": null
          }
        },
        "0e97c5437a3949bcb1008c03f44be011": {
          "model_module": "@jupyter-widgets/controls",
          "model_name": "DescriptionStyleModel",
          "model_module_version": "1.5.0",
          "state": {
            "_model_module": "@jupyter-widgets/controls",
            "_model_module_version": "1.5.0",
            "_model_name": "DescriptionStyleModel",
            "_view_count": null,
            "_view_module": "@jupyter-widgets/base",
            "_view_module_version": "1.2.0",
            "_view_name": "StyleView",
            "description_width": ""
          }
        },
        "7942e442095e460bb7be78007428870d": {
          "model_module": "@jupyter-widgets/controls",
          "model_name": "ButtonModel",
          "model_module_version": "1.5.0",
          "state": {
            "_dom_classes": [],
            "_model_module": "@jupyter-widgets/controls",
            "_model_module_version": "1.5.0",
            "_model_name": "ButtonModel",
            "_view_count": null,
            "_view_module": "@jupyter-widgets/controls",
            "_view_module_version": "1.5.0",
            "_view_name": "ButtonView",
            "button_style": "",
            "description": "Burn Control",
            "disabled": false,
            "icon": "rocket",
            "layout": "IPY_MODEL_76b909e79b3c4aa7b0954538d888724e",
            "style": "IPY_MODEL_eef32e7974b04c2097e5bbe3e92f8b77",
            "tooltip": ""
          }
        },
        "76b909e79b3c4aa7b0954538d888724e": {
          "model_module": "@jupyter-widgets/base",
          "model_name": "LayoutModel",
          "model_module_version": "1.2.0",
          "state": {
            "_model_module": "@jupyter-widgets/base",
            "_model_module_version": "1.2.0",
            "_model_name": "LayoutModel",
            "_view_count": null,
            "_view_module": "@jupyter-widgets/base",
            "_view_module_version": "1.2.0",
            "_view_name": "LayoutView",
            "align_content": null,
            "align_items": null,
            "align_self": null,
            "border": null,
            "bottom": null,
            "display": null,
            "flex": null,
            "flex_flow": null,
            "grid_area": null,
            "grid_auto_columns": null,
            "grid_auto_flow": null,
            "grid_auto_rows": null,
            "grid_column": null,
            "grid_gap": null,
            "grid_row": null,
            "grid_template_areas": null,
            "grid_template_columns": null,
            "grid_template_rows": null,
            "height": null,
            "justify_content": null,
            "justify_items": null,
            "left": null,
            "margin": null,
            "max_height": null,
            "max_width": null,
            "min_height": null,
            "min_width": null,
            "object_fit": null,
            "object_position": null,
            "order": null,
            "overflow": null,
            "overflow_x": null,
            "overflow_y": null,
            "padding": null,
            "right": null,
            "top": null,
            "visibility": null,
            "width": null
          }
        },
        "eef32e7974b04c2097e5bbe3e92f8b77": {
          "model_module": "@jupyter-widgets/controls",
          "model_name": "ButtonStyleModel",
          "model_module_version": "1.5.0",
          "state": {
            "_model_module": "@jupyter-widgets/controls",
            "_model_module_version": "1.5.0",
            "_model_name": "ButtonStyleModel",
            "_view_count": null,
            "_view_module": "@jupyter-widgets/base",
            "_view_module_version": "1.2.0",
            "_view_name": "StyleView",
            "button_color": null,
            "font_weight": ""
          }
        },
        "c723a8ecaa00499ab51b5b1c2165451e": {
          "model_module": "@jupyter-widgets/output",
          "model_name": "OutputModel",
          "model_module_version": "1.0.0",
          "state": {
            "_dom_classes": [],
            "_model_module": "@jupyter-widgets/output",
            "_model_module_version": "1.0.0",
            "_model_name": "OutputModel",
            "_view_count": null,
            "_view_module": "@jupyter-widgets/output",
            "_view_module_version": "1.0.0",
            "_view_name": "OutputView",
            "layout": "IPY_MODEL_6892ebe465e74a04972c3c82592a54c5",
            "msg_id": "",
            "outputs": [
              {
                "output_type": "stream",
                "name": "stdout",
                "text": [
                  "Altitude = 80 Speed = 11.0, Fuel = 1400.0 Impact = 5.0, Burn = 100.0\n"
                ]
              },
              {
                "output_type": "stream",
                "name": "stdout",
                "text": [
                  "Altitude = 69.0 Speed = 2.0, Fuel = 1300.0 Impact = 7.2727272727272725, Burn = 100.0\n"
                ]
              },
              {
                "output_type": "stream",
                "name": "stdout",
                "text": [
                  "Altitude = 67.0 Speed = 2.0, Fuel = 1290.0 Impact = 34.5, Burn = 10.0\n"
                ]
              },
              {
                "output_type": "stream",
                "name": "stdout",
                "text": [
                  "Altitude = 65.0 Speed = 2.0, Fuel = 1280.0 Impact = 33.5, Burn = 10.0\n"
                ]
              },
              {
                "output_type": "stream",
                "name": "stdout",
                "text": [
                  "Altitude = 63.0 Speed = 2.0, Fuel = 1270.0 Impact = 32.5, Burn = 10.0\n"
                ]
              },
              {
                "output_type": "stream",
                "name": "stdout",
                "text": [
                  "Altitude = 61.0 Speed = 2.0, Fuel = 1260.0 Impact = 31.5, Burn = 10.0\n"
                ]
              },
              {
                "output_type": "stream",
                "name": "stdout",
                "text": [
                  "Altitude = 59.0 Speed = 2.0, Fuel = 1250.0 Impact = 30.5, Burn = 10.0\n"
                ]
              },
              {
                "output_type": "stream",
                "name": "stdout",
                "text": [
                  "Altitude = 57.0 Speed = 2.0, Fuel = 1240.0 Impact = 29.5, Burn = 10.0\n"
                ]
              },
              {
                "output_type": "stream",
                "name": "stdout",
                "text": [
                  "Altitude = 55.0 Speed = 2.0, Fuel = 1230.0 Impact = 28.5, Burn = 10.0\n"
                ]
              },
              {
                "output_type": "stream",
                "name": "stdout",
                "text": [
                  "Altitude = 53.0 Speed = 2.0, Fuel = 1220.0 Impact = 27.5, Burn = 10.0\n"
                ]
              },
              {
                "output_type": "stream",
                "name": "stdout",
                "text": [
                  "Altitude = 51.0 Speed = 2.0, Fuel = 1210.0 Impact = 26.5, Burn = 10.0\n"
                ]
              },
              {
                "output_type": "stream",
                "name": "stdout",
                "text": [
                  "Altitude = 49.0 Speed = 2.0, Fuel = 1200.0 Impact = 25.5, Burn = 10.0\n"
                ]
              },
              {
                "output_type": "stream",
                "name": "stdout",
                "text": [
                  "Altitude = 47.0 Speed = 2.0, Fuel = 1190.0 Impact = 24.5, Burn = 10.0\n"
                ]
              },
              {
                "output_type": "stream",
                "name": "stdout",
                "text": [
                  "Altitude = 45.0 Speed = 2.0, Fuel = 1180.0 Impact = 23.5, Burn = 10.0\n"
                ]
              },
              {
                "output_type": "stream",
                "name": "stdout",
                "text": [
                  "Altitude = 43.0 Speed = 2.0, Fuel = 1170.0 Impact = 22.5, Burn = 10.0\n"
                ]
              },
              {
                "output_type": "stream",
                "name": "stdout",
                "text": [
                  "Altitude = 41.0 Speed = 2.0, Fuel = 1160.0 Impact = 21.5, Burn = 10.0\n"
                ]
              },
              {
                "output_type": "stream",
                "name": "stdout",
                "text": [
                  "Altitude = 39.0 Speed = 2.0, Fuel = 1150.0 Impact = 20.5, Burn = 10.0\n"
                ]
              }
            ]
          }
        },
        "6892ebe465e74a04972c3c82592a54c5": {
          "model_module": "@jupyter-widgets/base",
          "model_name": "LayoutModel",
          "model_module_version": "1.2.0",
          "state": {
            "_model_module": "@jupyter-widgets/base",
            "_model_module_version": "1.2.0",
            "_model_name": "LayoutModel",
            "_view_count": null,
            "_view_module": "@jupyter-widgets/base",
            "_view_module_version": "1.2.0",
            "_view_name": "LayoutView",
            "align_content": null,
            "align_items": null,
            "align_self": null,
            "border": null,
            "bottom": null,
            "display": null,
            "flex": null,
            "flex_flow": null,
            "grid_area": null,
            "grid_auto_columns": null,
            "grid_auto_flow": null,
            "grid_auto_rows": null,
            "grid_column": null,
            "grid_gap": null,
            "grid_row": null,
            "grid_template_areas": null,
            "grid_template_columns": null,
            "grid_template_rows": null,
            "height": null,
            "justify_content": null,
            "justify_items": null,
            "left": null,
            "margin": null,
            "max_height": null,
            "max_width": null,
            "min_height": null,
            "min_width": null,
            "object_fit": null,
            "object_position": null,
            "order": null,
            "overflow": null,
            "overflow_x": null,
            "overflow_y": null,
            "padding": null,
            "right": null,
            "top": null,
            "visibility": null,
            "width": null
          }
        }
      }
    }
  },
  "cells": [
    {
      "cell_type": "markdown",
      "metadata": {
        "id": "view-in-github",
        "colab_type": "text"
      },
      "source": [
        "<a href=\"https://colab.research.google.com/github/keiki-kode/Python-for-Kids-Jupyter/blob/master/Python_for_kids_part_05.ipynb\" target=\"_parent\"><img src=\"https://colab.research.google.com/assets/colab-badge.svg\" alt=\"Open In Colab\"/></a>"
      ]
    },
    {
      "cell_type": "markdown",
      "source": [
        "This notebook is part of our [Introduction to  Computer Programming in Python for kids](https://www.keikikode.org/intro-to-python-for-kids) course.\n",
        "\n",
        "\n",
        "\n",
        "# Lesson 5: Lunar Lander Text Game"
      ],
      "metadata": {
        "id": "Ata_Ugbp9IDT"
      }
    },
    {
      "cell_type": "markdown",
      "source": [
        "> This lesson is inspired by a classic game, you can learn more on [Wikipedia](https://en.wikipedia.org/wiki/Lunar_Lander_(video_game_genre)).\n",
        "\n",
        "The Lunar Lander Text game is simple. It requires the player to control a rocket attempting to land on the moon by entering instructions to the rocket in a turn-based system in response to the textual summary of its current position and velocity relative to the ground.\n",
        "\n",
        "In the original Lunar, players controlled only the amount of vertical thrust to apply, based on their current vertical velocity and remaining fuel, with each round representing one second of travel time. Rocket added a simple text-based graphical display of the distance from the ground in each round, while LEM added horizontal velocity and the ability to apply thrust at an angle.\n",
        "\n",
        "\n",
        "## User Input\n",
        "\n",
        "The game will need to receive input from the user, this can be done with a few iPython libraries. We'll first define a text \"widget\" that will allow users to enter text, and a button they can use to submit their entry.\n",
        "\n",
        "We'll also define a `on_button_clicked` function that will be triggered when the user submits a new value via the `on_click` call. This is called \"event-driven programming\", when we react to user input.\n"
      ],
      "metadata": {
        "id": "qDiOXOO_BOJj"
      }
    },
    {
      "cell_type": "markdown",
      "source": [],
      "metadata": {
        "id": "-omN5a_0FAPJ"
      }
    },
    {
      "cell_type": "code",
      "source": [
        "!pip3 install ipywidgets"
      ],
      "metadata": {
        "id": "pOaLJE9YoCil"
      },
      "execution_count": null,
      "outputs": []
    },
    {
      "cell_type": "code",
      "source": [
        "from ipywidgets import interact, interactive, fixed, interact_manual, widgets\n",
        "text = widgets.Text(description=\"Text\")\n",
        "\n",
        "button = widgets.Button(description=\"Click Me!\")\n",
        "output = widgets.Output()\n",
        "\n",
        "display(text, button, output)\n",
        "\n",
        "@output.capture()\n",
        "def on_button_clicked(b):\n",
        "    print(\"Button clicked.\", text.value)\n",
        "\n",
        "button.on_click(on_button_clicked)"
      ],
      "metadata": {
        "id": "MOh3CapnGC_h"
      },
      "execution_count": null,
      "outputs": []
    },
    {
      "cell_type": "markdown",
      "source": [
        "The goal of the game is to reduce the speed sufficently to achieve a \"soft\" landing at a reasonable speed.\n",
        "\n",
        "\n",
        "## Variables\n",
        "\n",
        "We'll need to use a few variables to keep track of a few parameters of our lander. We won't be using accurate Physics for this game, but we'll be tracking the `speed` of the lander as it races closer to the moon, the `altitude` of the lander relative to the surface of the moon, and the amount of `fuel` left on the lander.\n",
        "\n",
        "The moon `gravity` will also be a constant, and the `burn` variable will be given by the user. Each burn value will reduce the speed, and use a certain amount of fuel.\n",
        "\n",
        "\n",
        "Since we will ba adjusting the value of these variables quite a bit, you should learn a Python shortcut.\n",
        "\n",
        "If we define a variable and want to adjust its value based on the current value, we would use something like:\n",
        "\n",
        "```\n",
        "myValue = myValue + 1\n",
        "```\n",
        "\n",
        "An equivalent but shorter way to do this in Python is to add the operation before the `=` sign:\n",
        "```\n",
        "myValue += 1\n",
        "```\n",
        "\n",
        "Also, since we defined the initial values of these variables outside of the function, we'll use the `global` keyword to ensure that the function uses these variables, and doesn't create a `local` version of these variables.\n",
        "\n",
        "## Printing Text\n",
        "\n",
        "For printing text, we'll use [Python f-strings](https://technotes.videre.us/en/python/awesome-python-f-strings/), which offers an easy and powerful way to combine static text and the contant of our variables.\n",
        "\n",
        "\n",
        "```\n",
        "print(\"My value:\", myValue)\n",
        "```\n",
        "\n",
        "is equivalent to:\n",
        "```\n",
        "print(f\"My value: {myValue})\n",
        "```\n",
        "\n",
        "Notice the `f` before the quote, and the `{`curly brackets`}` around the variable.\n",
        "\n",
        "\n",
        "## If statements for comparing values\n",
        "\n",
        "If statements are used to compare two values, and take action based on the result of that comparison. Python uses indentation to control these statements.\n",
        "\n",
        "A simple version will have an `if`, that will be executed only if the condition is `True`. There can also be an `else` that will be executed if the condition is `False`:\n",
        "\n",
        "```\n",
        "if altitude <= 0:\n",
        "    print(\"You have crashed\")\n",
        "else:\n",
        "    print(\"Still in space\")\n",
        "\n",
        "```\n",
        "\n",
        "Logical statements can be combined via `and` and `or` statements.\n",
        "- For `and` statements, the condition will be `True` only if *both conditions* are `True`.\n",
        "- For `or` statements, the condition will be `True` only if *either* condition (or both) are `True`.\n",
        "\n",
        "```\n",
        "if altitude <= 0 and speed > 5\n",
        "```\n",
        "\n",
        "Additional comparison can be added in the form of `elif` statements, which are short for `else if`.\n",
        "\n",
        "## The Game\n",
        "\n",
        "You are the pilot and need to control how much fuel you burn in the\n",
        "retro rockets so that your descent speed slows to zero just as your\n",
        "altitude above the moon's surface reaches zero. If you reach the moon\n",
        "with a speed greater than 5 m/s then you have considered to have crashed.\n",
        "Otherwise, you will have a successful landing.\n",
        "If you run out of fuel, the spaceship will accelerate towards the moon by gravity.\n",
        "\n",
        "\n",
        "👉_ We'll start with arbitrary values for our variables, feel free to change them and experiment to see how they can change the game:\n"
      ],
      "metadata": {
        "id": "9VYyn0lbAHIm"
      }
    },
    {
      "cell_type": "code",
      "source": [
        "from ipywidgets import interact, interactive, fixed, interact_manual\n",
        "\n",
        "text = widgets.FloatText(description=\"Fuel burn:\")\n",
        "button = widgets.Button(description=\"Burn Control\", icon=\"warning\")\n",
        "output = widgets.Output()\n",
        "display(text, button, output)\n",
        "\n",
        "\n",
        "# CHANGE THE SPEED, FUEL, AND ALTITUDE VARIABLES TO YOUR LIKING\n",
        "speed = 20      # speed approaching the moon\n",
        "fuel = 1500     # how much fuel is left\n",
        "altitude = 100  # altitude above moon\n",
        "gravity = 1     # acceleration due to gravity\n",
        "\n",
        "\n",
        "@output.capture()\n",
        "def on_button_clicked(b):\n",
        "    global fuel, altitude, speed, gravity\n",
        "    burn = text.value\n",
        "    # we can't burn more fuel than we have\n",
        "    if burn > fuel:\n",
        "       burn = fuel\n",
        "    # calculate the new flight data\n",
        "    impact = altitude / speed\n",
        "    altitude -= speed\n",
        "    speed += gravity - burn/10\n",
        "    fuel -= burn\n",
        "    # display good landing or not\n",
        "    print(f'Altitude = {altitude} Speed = {speed}, Fuel = {fuel} Impact = {impact}, Burn = {burn}')\n",
        "    if altitude <= 0 and speed > 5:\n",
        "      print(\"You have crashed\")\n",
        "      b.icon=\"explosion\"\n",
        "      b.disabled = True\n",
        "    elif altitude <= 0 and speed <= 5:\n",
        "      print(\"You have landed\")\n",
        "      b.icon=\"moon\"\n",
        "      b.disabled = True\n",
        "    else:\n",
        "      # We're still in space\n",
        "      b.icon=\"rocket\"\n",
        "\n",
        "button.on_click(on_button_clicked)"
      ],
      "metadata": {
        "id": "cGfgOLV2M-88",
        "colab": {
          "base_uri": "https://localhost:8080/",
          "height": 385,
          "referenced_widgets": [
            "2177da3333224a89bd838b0dcf17dd72",
            "c90b2cc7dbf94d83bd741635fd3ba78c",
            "0e97c5437a3949bcb1008c03f44be011",
            "7942e442095e460bb7be78007428870d",
            "76b909e79b3c4aa7b0954538d888724e",
            "eef32e7974b04c2097e5bbe3e92f8b77",
            "c723a8ecaa00499ab51b5b1c2165451e",
            "6892ebe465e74a04972c3c82592a54c5"
          ]
        },
        "outputId": "577371fc-14bd-44f5-8552-fc3718eaaaa2"
      },
      "execution_count": null,
      "outputs": [
        {
          "output_type": "display_data",
          "data": {
            "text/plain": [
              "FloatText(value=0.0, description='Fuel burn:')"
            ],
            "application/vnd.jupyter.widget-view+json": {
              "version_major": 2,
              "version_minor": 0,
              "model_id": "2177da3333224a89bd838b0dcf17dd72"
            }
          },
          "metadata": {}
        },
        {
          "output_type": "display_data",
          "data": {
            "text/plain": [
              "Button(description='Burn Control', icon='warning', style=ButtonStyle())"
            ],
            "application/vnd.jupyter.widget-view+json": {
              "version_major": 2,
              "version_minor": 0,
              "model_id": "7942e442095e460bb7be78007428870d"
            }
          },
          "metadata": {}
        },
        {
          "output_type": "display_data",
          "data": {
            "text/plain": [
              "Output()"
            ],
            "application/vnd.jupyter.widget-view+json": {
              "version_major": 2,
              "version_minor": 0,
              "model_id": "c723a8ecaa00499ab51b5b1c2165451e"
            }
          },
          "metadata": {}
        }
      ]
    },
    {
      "cell_type": "markdown",
      "source": [
        "💡 Challenge: Landing a real spacecraft on the surface of another planet is obviously way more complicated then this, you can learn more on JPL's [Code a Mars Landing](https://www.jpl.nasa.gov/edu/learn/project/code-a-mars-landing/) project!"
      ],
      "metadata": {
        "id": "llJsk_tdImpR"
      }
    }
  ]
}