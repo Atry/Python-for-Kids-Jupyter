{
  "nbformat": 4,
  "nbformat_minor": 0,
  "metadata": {
    "colab": {
      "provenance": [],
      "authorship_tag": "ABX9TyMwDOKv99i9139cMZaL4vZQ",
      "include_colab_link": true
    },
    "kernelspec": {
      "name": "python3",
      "display_name": "Python 3"
    },
    "language_info": {
      "name": "python"
    }
  },
  "cells": [
    {
      "cell_type": "markdown",
      "metadata": {
        "id": "view-in-github",
        "colab_type": "text"
      },
      "source": [
        "<a href=\"https://colab.research.google.com/github/keiki-kode/Python-for-Kids-Jupyter/blob/master/Python_for_kids_part_02.ipynb\" target=\"_parent\"><img src=\"https://colab.research.google.com/assets/colab-badge.svg\" alt=\"Open In Colab\"/></a>"
      ]
    },
    {
      "cell_type": "markdown",
      "source": [
        "This notebook is part of our [Introduction to  Computer Programming in Python for kids](https://www.keikikode.org/intro-to-python-for-kids) course.\n",
        "\n",
        ">*Thank you to the [CoderDojo Brisbane](https://colab.research.google.com/drive/1Frqg5iFd1tsxRwNRZr4KPAHhMkSE5zs_?usp=sharing#scrollTo=xSmZGyEPUogF) for their example.*\n",
        "\n",
        "\n",
        "# Lesson 2: Turtle Graphics\n",
        "\n",
        "The Python Turtle is a simple and fun way to continue learning Python.\n",
        "\n",
        "\n",
        "## Degrees Angles\n",
        "\n",
        "The turtle can turn using the `left` or `right` commands. The values passed are in degrees. You can learn more about the degree system [on this website](https://www.google.com/url?q=https%3A%2F%2Fwww.mathsisfun.com%2Fgeometry%2Fdegrees.html&sa=D&sntz=1&usg=AOvVaw0kEQrwLxGaHm8SI0rw_Hbg).\n",
        "\n",
        "\n",
        "> 👇 You can insert your own code cell by hovering your mouse near the bottom of this cell, and clicking the button + Code.\n",
        "\n",
        "\n",
        "In order to use the Turtle, we will need to import the library by typing the following:"
      ],
      "metadata": {
        "id": "nypLBZVbbN-Y"
      }
    },
    {
      "cell_type": "code",
      "execution_count": 26,
      "metadata": {
        "colab": {
          "base_uri": "https://localhost:8080/"
        },
        "id": "8nMd85BpVDW6",
        "outputId": "557133ef-1176-40b7-d0de-1ec616e9a6b7"
      },
      "outputs": [
        {
          "output_type": "stream",
          "name": "stdout",
          "text": [
            "Requirement already satisfied: ColabTurtle in /usr/local/lib/python3.10/dist-packages (2.1.0)\n"
          ]
        }
      ],
      "source": [
        "!pip3 install ColabTurtle\n",
        "from ColabTurtle.Turtle import *"
      ]
    },
    {
      "cell_type": "markdown",
      "source": [
        "`initializeTurtle()` clears the screen, and sends the turtle back to the middle, ready to start over.\n",
        "\n",
        "Here we asked the turtle to turn right and draw a line. The line is 150 pixels long.\n",
        "\n",
        "👉_ Try changing the code below to get a different direction and length."
      ],
      "metadata": {
        "id": "OJ66ieT3xS4l"
      }
    },
    {
      "cell_type": "code",
      "source": [
        "initializeTurtle()\n",
        "\n",
        "right(90)           # Try changing the turtle's direction\n",
        "forward(150)        # Try moving a smaller or bigger step"
      ],
      "metadata": {
        "id": "Pf3PSBtfxbsT"
      },
      "execution_count": null,
      "outputs": []
    },
    {
      "cell_type": "markdown",
      "source": [
        "Just by adding a few lines of code, you will have a square.\n",
        "\n",
        "👉_ Try it below:"
      ],
      "metadata": {
        "id": "4agvi2tnxoxp"
      }
    },
    {
      "cell_type": "code",
      "source": [
        "initializeTurtle()\n",
        "\n",
        "right(90)\n",
        "forward(150)\n",
        "right(90)\n",
        "forward(150)\n",
        "right(90)\n",
        "forward(150)\n",
        "right(90)\n",
        "forward(150)"
      ],
      "metadata": {
        "colab": {
          "base_uri": "https://localhost:8080/",
          "height": 521
        },
        "id": "qaHjQ0yCxpoE",
        "outputId": "5855637e-beb9-4be1-a72d-944aa5bfccd0"
      },
      "execution_count": 35,
      "outputs": [
        {
          "output_type": "display_data",
          "data": {
            "text/plain": [
              "<IPython.core.display.HTML object>"
            ],
            "text/html": [
              "\n",
              "      <svg width=\"800\" height=\"500\">\n",
              "        <rect width=\"100%\" height=\"100%\" fill=\"black\"/>\n",
              "        <line x1=\"400\" y1=\"250\" x2=\"550.0\" y2=\"250.0\" stroke-linecap=\"round\" style=\"stroke:white;stroke-width:4\"/><line x1=\"550.0\" y1=\"250.0\" x2=\"550.0\" y2=\"400.0\" stroke-linecap=\"round\" style=\"stroke:white;stroke-width:4\"/><line x1=\"550.0\" y1=\"400.0\" x2=\"400.0\" y2=\"400.0\" stroke-linecap=\"round\" style=\"stroke:white;stroke-width:4\"/><line x1=\"400.0\" y1=\"400.0\" x2=\"400.0\" y2=\"250.0\" stroke-linecap=\"round\" style=\"stroke:white;stroke-width:4\"/>\n",
              "        <g visibility=visible transform=\"rotate(360,400.0,250.0) translate(382.0, 232.0)\">\n",
              "<path style=\" stroke:none;fill-rule:evenodd;fill:white;fill-opacity:1;\" d=\"M 18.214844 0.632812 C 16.109375 1.800781 15.011719 4.074219 15.074219 7.132812 L 15.085938 7.652344 L 14.785156 7.496094 C 13.476562 6.824219 11.957031 6.671875 10.40625 7.066406 C 8.46875 7.550781 6.515625 9.15625 4.394531 11.992188 C 3.0625 13.777344 2.679688 14.636719 3.042969 15.027344 L 3.15625 15.152344 L 3.519531 15.152344 C 4.238281 15.152344 4.828125 14.886719 8.1875 13.039062 C 9.386719 12.378906 10.371094 11.839844 10.378906 11.839844 C 10.386719 11.839844 10.355469 11.929688 10.304688 12.035156 C 9.832031 13.09375 9.257812 14.820312 8.96875 16.078125 C 7.914062 20.652344 8.617188 24.53125 11.070312 27.660156 C 11.351562 28.015625 11.363281 27.914062 10.972656 28.382812 C 8.925781 30.84375 7.945312 33.28125 8.238281 35.1875 C 8.289062 35.527344 8.28125 35.523438 8.917969 35.523438 C 10.941406 35.523438 13.074219 34.207031 15.136719 31.6875 C 15.359375 31.417969 15.328125 31.425781 15.5625 31.574219 C 16.292969 32.042969 18.023438 32.964844 18.175781 32.964844 C 18.335938 32.964844 19.941406 32.210938 20.828125 31.71875 C 20.996094 31.625 21.136719 31.554688 21.136719 31.558594 C 21.203125 31.664062 21.898438 32.414062 22.222656 32.730469 C 23.835938 34.300781 25.5625 35.132812 27.582031 35.300781 C 27.90625 35.328125 27.9375 35.308594 28.007812 34.984375 C 28.382812 33.242188 27.625 30.925781 25.863281 28.425781 L 25.542969 27.96875 L 25.699219 27.785156 C 28.945312 23.960938 29.132812 18.699219 26.257812 11.96875 L 26.207031 11.84375 L 27.945312 12.703125 C 31.53125 14.476562 32.316406 14.800781 33.03125 14.800781 C 33.976562 14.800781 33.78125 13.9375 32.472656 12.292969 C 28.519531 7.355469 25.394531 5.925781 21.921875 7.472656 L 21.558594 7.636719 L 21.578125 7.542969 C 21.699219 6.992188 21.761719 5.742188 21.699219 5.164062 C 21.496094 3.296875 20.664062 1.964844 19.003906 0.855469 C 18.480469 0.503906 18.457031 0.5 18.214844 0.632812\"/>\n",
              "</g>\n",
              "      </svg>\n",
              "    "
            ]
          },
          "metadata": {}
        }
      ]
    },
    {
      "cell_type": "markdown",
      "source": [
        "Loop around\n",
        "We asked the turtle to draw a square by telling it to:\n",
        "\n",
        "- Turn right, then go forward 150 pixels\n",
        "- Turn right, then go forward 150 pixels\n",
        "- Turn right, then go forward 150 pixels\n",
        "- Turn right, then go forward 150 pixels\n",
        "\n",
        "Here's another way to tell the turtle to perform the same actions:\n",
        "\n",
        "- Repeat this 4 times:\n",
        "- Turn right, then go forward 150 pixels\n",
        "\n",
        "This is called a loop in Python. A loop repeats the same set of code - as many times as you specify. For those familiar with `Scratch`, this is just like the `Repeat` block."
      ],
      "metadata": {
        "id": "uB9V8sEXx6y8"
      }
    },
    {
      "cell_type": "code",
      "source": [
        "initializeTurtle()\n",
        "side_length = 100\n",
        "angle = 360/4\n",
        "\n",
        "for i in range(4):\n",
        "  forward(side_length)\n",
        "  right(angle)"
      ],
      "metadata": {
        "colab": {
          "base_uri": "https://localhost:8080/",
          "height": 521
        },
        "id": "tSA0_JCEXOvN",
        "outputId": "55bb5c1a-c294-4153-abab-ee15babaaf0c"
      },
      "execution_count": 39,
      "outputs": [
        {
          "output_type": "display_data",
          "data": {
            "text/plain": [
              "<IPython.core.display.HTML object>"
            ],
            "text/html": [
              "\n",
              "      <svg width=\"800\" height=\"500\">\n",
              "        <rect width=\"100%\" height=\"100%\" fill=\"black\"/>\n",
              "        <line x1=\"400\" y1=\"250\" x2=\"400.0\" y2=\"150.0\" stroke-linecap=\"round\" style=\"stroke:white;stroke-width:4\"/><line x1=\"400.0\" y1=\"150.0\" x2=\"500.0\" y2=\"150.0\" stroke-linecap=\"round\" style=\"stroke:white;stroke-width:4\"/><line x1=\"500.0\" y1=\"150.0\" x2=\"500.0\" y2=\"250.0\" stroke-linecap=\"round\" style=\"stroke:white;stroke-width:4\"/><line x1=\"500.0\" y1=\"250.0\" x2=\"400.0\" y2=\"250.0\" stroke-linecap=\"round\" style=\"stroke:white;stroke-width:4\"/>\n",
              "        <g visibility=visible transform=\"rotate(360.0,400.0,250.0) translate(382.0, 232.0)\">\n",
              "<path style=\" stroke:none;fill-rule:evenodd;fill:white;fill-opacity:1;\" d=\"M 18.214844 0.632812 C 16.109375 1.800781 15.011719 4.074219 15.074219 7.132812 L 15.085938 7.652344 L 14.785156 7.496094 C 13.476562 6.824219 11.957031 6.671875 10.40625 7.066406 C 8.46875 7.550781 6.515625 9.15625 4.394531 11.992188 C 3.0625 13.777344 2.679688 14.636719 3.042969 15.027344 L 3.15625 15.152344 L 3.519531 15.152344 C 4.238281 15.152344 4.828125 14.886719 8.1875 13.039062 C 9.386719 12.378906 10.371094 11.839844 10.378906 11.839844 C 10.386719 11.839844 10.355469 11.929688 10.304688 12.035156 C 9.832031 13.09375 9.257812 14.820312 8.96875 16.078125 C 7.914062 20.652344 8.617188 24.53125 11.070312 27.660156 C 11.351562 28.015625 11.363281 27.914062 10.972656 28.382812 C 8.925781 30.84375 7.945312 33.28125 8.238281 35.1875 C 8.289062 35.527344 8.28125 35.523438 8.917969 35.523438 C 10.941406 35.523438 13.074219 34.207031 15.136719 31.6875 C 15.359375 31.417969 15.328125 31.425781 15.5625 31.574219 C 16.292969 32.042969 18.023438 32.964844 18.175781 32.964844 C 18.335938 32.964844 19.941406 32.210938 20.828125 31.71875 C 20.996094 31.625 21.136719 31.554688 21.136719 31.558594 C 21.203125 31.664062 21.898438 32.414062 22.222656 32.730469 C 23.835938 34.300781 25.5625 35.132812 27.582031 35.300781 C 27.90625 35.328125 27.9375 35.308594 28.007812 34.984375 C 28.382812 33.242188 27.625 30.925781 25.863281 28.425781 L 25.542969 27.96875 L 25.699219 27.785156 C 28.945312 23.960938 29.132812 18.699219 26.257812 11.96875 L 26.207031 11.84375 L 27.945312 12.703125 C 31.53125 14.476562 32.316406 14.800781 33.03125 14.800781 C 33.976562 14.800781 33.78125 13.9375 32.472656 12.292969 C 28.519531 7.355469 25.394531 5.925781 21.921875 7.472656 L 21.558594 7.636719 L 21.578125 7.542969 C 21.699219 6.992188 21.761719 5.742188 21.699219 5.164062 C 21.496094 3.296875 20.664062 1.964844 19.003906 0.855469 C 18.480469 0.503906 18.457031 0.5 18.214844 0.632812\"/>\n",
              "</g>\n",
              "      </svg>\n",
              "    "
            ]
          },
          "metadata": {}
        }
      ]
    },
    {
      "cell_type": "markdown",
      "source": [
        "# Teach the turtle a new trick\n",
        "We can make the loop for drawing a square into a `function` that can be re-used many times, just by calling the function by name. This is kind of like saying to the turtle, \"Draw a square, please.\" The turtle knows what \"draw a square\" means because you have created a function to do just that.\n",
        "\n",
        "We'll name our function `drawSquare`. You write a function this way:"
      ],
      "metadata": {
        "id": "At-whlmLyNJL"
      }
    },
    {
      "cell_type": "code",
      "source": [
        "def drawSquare():          # Define the function name\n",
        "  for side in range(4):    # Code for drawing a square goes here - beginning with an indent\n",
        "    right(90)\n",
        "    forward(150)"
      ],
      "metadata": {
        "id": "x_D3OCmabAYQ"
      },
      "execution_count": 40,
      "outputs": []
    },
    {
      "cell_type": "markdown",
      "source": [
        "You can call your function by calling your function's name, followed by parenthesis ()."
      ],
      "metadata": {
        "id": "Uj8HIH5S02vV"
      }
    },
    {
      "cell_type": "code",
      "source": [
        "initializeTurtle()\n",
        "\n",
        "drawSquare()"
      ],
      "metadata": {
        "colab": {
          "base_uri": "https://localhost:8080/",
          "height": 521
        },
        "id": "aNW8ieBk016G",
        "outputId": "4f465aca-aede-460a-91c5-a3d04e8739c3"
      },
      "execution_count": 41,
      "outputs": [
        {
          "output_type": "display_data",
          "data": {
            "text/plain": [
              "<IPython.core.display.HTML object>"
            ],
            "text/html": [
              "\n",
              "      <svg width=\"800\" height=\"500\">\n",
              "        <rect width=\"100%\" height=\"100%\" fill=\"black\"/>\n",
              "        <line x1=\"400\" y1=\"250\" x2=\"550.0\" y2=\"250.0\" stroke-linecap=\"round\" style=\"stroke:white;stroke-width:4\"/><line x1=\"550.0\" y1=\"250.0\" x2=\"550.0\" y2=\"400.0\" stroke-linecap=\"round\" style=\"stroke:white;stroke-width:4\"/><line x1=\"550.0\" y1=\"400.0\" x2=\"400.0\" y2=\"400.0\" stroke-linecap=\"round\" style=\"stroke:white;stroke-width:4\"/><line x1=\"400.0\" y1=\"400.0\" x2=\"400.0\" y2=\"250.0\" stroke-linecap=\"round\" style=\"stroke:white;stroke-width:4\"/>\n",
              "        <g visibility=visible transform=\"rotate(360,400.0,250.0) translate(382.0, 232.0)\">\n",
              "<path style=\" stroke:none;fill-rule:evenodd;fill:white;fill-opacity:1;\" d=\"M 18.214844 0.632812 C 16.109375 1.800781 15.011719 4.074219 15.074219 7.132812 L 15.085938 7.652344 L 14.785156 7.496094 C 13.476562 6.824219 11.957031 6.671875 10.40625 7.066406 C 8.46875 7.550781 6.515625 9.15625 4.394531 11.992188 C 3.0625 13.777344 2.679688 14.636719 3.042969 15.027344 L 3.15625 15.152344 L 3.519531 15.152344 C 4.238281 15.152344 4.828125 14.886719 8.1875 13.039062 C 9.386719 12.378906 10.371094 11.839844 10.378906 11.839844 C 10.386719 11.839844 10.355469 11.929688 10.304688 12.035156 C 9.832031 13.09375 9.257812 14.820312 8.96875 16.078125 C 7.914062 20.652344 8.617188 24.53125 11.070312 27.660156 C 11.351562 28.015625 11.363281 27.914062 10.972656 28.382812 C 8.925781 30.84375 7.945312 33.28125 8.238281 35.1875 C 8.289062 35.527344 8.28125 35.523438 8.917969 35.523438 C 10.941406 35.523438 13.074219 34.207031 15.136719 31.6875 C 15.359375 31.417969 15.328125 31.425781 15.5625 31.574219 C 16.292969 32.042969 18.023438 32.964844 18.175781 32.964844 C 18.335938 32.964844 19.941406 32.210938 20.828125 31.71875 C 20.996094 31.625 21.136719 31.554688 21.136719 31.558594 C 21.203125 31.664062 21.898438 32.414062 22.222656 32.730469 C 23.835938 34.300781 25.5625 35.132812 27.582031 35.300781 C 27.90625 35.328125 27.9375 35.308594 28.007812 34.984375 C 28.382812 33.242188 27.625 30.925781 25.863281 28.425781 L 25.542969 27.96875 L 25.699219 27.785156 C 28.945312 23.960938 29.132812 18.699219 26.257812 11.96875 L 26.207031 11.84375 L 27.945312 12.703125 C 31.53125 14.476562 32.316406 14.800781 33.03125 14.800781 C 33.976562 14.800781 33.78125 13.9375 32.472656 12.292969 C 28.519531 7.355469 25.394531 5.925781 21.921875 7.472656 L 21.558594 7.636719 L 21.578125 7.542969 C 21.699219 6.992188 21.761719 5.742188 21.699219 5.164062 C 21.496094 3.296875 20.664062 1.964844 19.003906 0.855469 C 18.480469 0.503906 18.457031 0.5 18.214844 0.632812\"/>\n",
              "</g>\n",
              "      </svg>\n",
              "    "
            ]
          },
          "metadata": {}
        }
      ]
    },
    {
      "cell_type": "markdown",
      "source": [
        "Make your own functions\n",
        "Let's finish this exercise by creating a few functions of your own.\n",
        "\n",
        "👇 In the code cell below, write a function that draws a triangle, then call it.\n",
        "\n",
        "💡 Try typing the code yourself, instead of copying and pasting from the previous code. Programmers generally learn more by typing the code themselves.\n",
        "\n",
        "Hint: A triangle has 3 sides. Turn 120 degrees instead of 90 (360/3 = 120)"
      ],
      "metadata": {
        "id": "vV2uRBpOy9wW"
      }
    },
    {
      "cell_type": "code",
      "source": [
        "# Add your code here:\n"
      ],
      "metadata": {
        "id": "ouGPVwdLy9J3"
      },
      "execution_count": null,
      "outputs": []
    },
    {
      "cell_type": "markdown",
      "source": [
        "For example, let's define a function to draw triangles:"
      ],
      "metadata": {
        "id": "psdUuYBp2t1N"
      }
    },
    {
      "cell_type": "code",
      "source": [
        "def drawTriangle():\n",
        "  for side in range(3):\n",
        "    right(120)\n",
        "    forward(150)"
      ],
      "metadata": {
        "id": "9qKH5fE402Go"
      },
      "execution_count": 42,
      "outputs": []
    },
    {
      "cell_type": "markdown",
      "source": [
        "In order to make your function more useful, we can pass the length of the triangle as a parameter, let,s call it a variable named `myLenght`."
      ],
      "metadata": {
        "id": "r3Y5Kk9o1XNb"
      }
    },
    {
      "cell_type": "code",
      "source": [
        "def drawTriangle(myLenght):\n",
        "  for side in [1, 2, 3]:\n",
        "    # print(side)\n",
        "    forward(myLenght)\n",
        "    right(360/3)\n",
        "\n",
        "initializeTurtle()\n",
        "\n",
        "drawTriangle(180)\n",
        "left(120)\n",
        "drawTriangle(120)\n",
        "left(120)\n",
        "drawTriangle(50)"
      ],
      "metadata": {
        "colab": {
          "base_uri": "https://localhost:8080/",
          "height": 521
        },
        "id": "-WmniboJblA0",
        "outputId": "514c038a-a0eb-4497-bc4a-f6d234f1beea"
      },
      "execution_count": 47,
      "outputs": [
        {
          "output_type": "display_data",
          "data": {
            "text/plain": [
              "<IPython.core.display.HTML object>"
            ],
            "text/html": [
              "\n",
              "      <svg width=\"800\" height=\"500\">\n",
              "        <rect width=\"100%\" height=\"100%\" fill=\"black\"/>\n",
              "        <line x1=\"400\" y1=\"250\" x2=\"400.0\" y2=\"70.0\" stroke-linecap=\"round\" style=\"stroke:white;stroke-width:4\"/><line x1=\"400.0\" y1=\"70.0\" x2=\"555.885\" y2=\"160.0\" stroke-linecap=\"round\" style=\"stroke:white;stroke-width:4\"/><line x1=\"555.885\" y1=\"160.0\" x2=\"400.0\" y2=\"250.0\" stroke-linecap=\"round\" style=\"stroke:white;stroke-width:4\"/><line x1=\"400.0\" y1=\"250.0\" x2=\"296.077\" y2=\"310.0\" stroke-linecap=\"round\" style=\"stroke:white;stroke-width:4\"/><line x1=\"296.077\" y1=\"310.0\" x2=\"296.077\" y2=\"190.0\" stroke-linecap=\"round\" style=\"stroke:white;stroke-width:4\"/><line x1=\"296.077\" y1=\"190.0\" x2=\"400.0\" y2=\"250.0\" stroke-linecap=\"round\" style=\"stroke:white;stroke-width:4\"/><line x1=\"400.0\" y1=\"250.0\" x2=\"443.301\" y2=\"275.0\" stroke-linecap=\"round\" style=\"stroke:white;stroke-width:4\"/><line x1=\"443.301\" y1=\"275.0\" x2=\"400.0\" y2=\"300.0\" stroke-linecap=\"round\" style=\"stroke:white;stroke-width:4\"/><line x1=\"400.0\" y1=\"300.0\" x2=\"400.0\" y2=\"250.0\" stroke-linecap=\"round\" style=\"stroke:white;stroke-width:4\"/>\n",
              "        <g visibility=visible transform=\"rotate(120.0,400.0,250.0) translate(382.0, 232.0)\">\n",
              "<path style=\" stroke:none;fill-rule:evenodd;fill:white;fill-opacity:1;\" d=\"M 18.214844 0.632812 C 16.109375 1.800781 15.011719 4.074219 15.074219 7.132812 L 15.085938 7.652344 L 14.785156 7.496094 C 13.476562 6.824219 11.957031 6.671875 10.40625 7.066406 C 8.46875 7.550781 6.515625 9.15625 4.394531 11.992188 C 3.0625 13.777344 2.679688 14.636719 3.042969 15.027344 L 3.15625 15.152344 L 3.519531 15.152344 C 4.238281 15.152344 4.828125 14.886719 8.1875 13.039062 C 9.386719 12.378906 10.371094 11.839844 10.378906 11.839844 C 10.386719 11.839844 10.355469 11.929688 10.304688 12.035156 C 9.832031 13.09375 9.257812 14.820312 8.96875 16.078125 C 7.914062 20.652344 8.617188 24.53125 11.070312 27.660156 C 11.351562 28.015625 11.363281 27.914062 10.972656 28.382812 C 8.925781 30.84375 7.945312 33.28125 8.238281 35.1875 C 8.289062 35.527344 8.28125 35.523438 8.917969 35.523438 C 10.941406 35.523438 13.074219 34.207031 15.136719 31.6875 C 15.359375 31.417969 15.328125 31.425781 15.5625 31.574219 C 16.292969 32.042969 18.023438 32.964844 18.175781 32.964844 C 18.335938 32.964844 19.941406 32.210938 20.828125 31.71875 C 20.996094 31.625 21.136719 31.554688 21.136719 31.558594 C 21.203125 31.664062 21.898438 32.414062 22.222656 32.730469 C 23.835938 34.300781 25.5625 35.132812 27.582031 35.300781 C 27.90625 35.328125 27.9375 35.308594 28.007812 34.984375 C 28.382812 33.242188 27.625 30.925781 25.863281 28.425781 L 25.542969 27.96875 L 25.699219 27.785156 C 28.945312 23.960938 29.132812 18.699219 26.257812 11.96875 L 26.207031 11.84375 L 27.945312 12.703125 C 31.53125 14.476562 32.316406 14.800781 33.03125 14.800781 C 33.976562 14.800781 33.78125 13.9375 32.472656 12.292969 C 28.519531 7.355469 25.394531 5.925781 21.921875 7.472656 L 21.558594 7.636719 L 21.578125 7.542969 C 21.699219 6.992188 21.761719 5.742188 21.699219 5.164062 C 21.496094 3.296875 20.664062 1.964844 19.003906 0.855469 C 18.480469 0.503906 18.457031 0.5 18.214844 0.632812\"/>\n",
              "</g>\n",
              "      </svg>\n",
              "    "
            ]
          },
          "metadata": {}
        }
      ]
    },
    {
      "cell_type": "markdown",
      "source": [
        "You can also call your function in a loop:"
      ],
      "metadata": {
        "id": "gp5KOKsr2BCk"
      }
    },
    {
      "cell_type": "code",
      "source": [
        "initializeTurtle()\n",
        "speed(7)\n",
        "\n",
        "# for sq in range(6):\n",
        "#   drawSquare()          # Call your function to run it\n",
        "#   right(60)\n",
        "\n",
        "for t in range(10):\n",
        "  drawTriangle()\n",
        "  right(36)\n"
      ],
      "metadata": {
        "colab": {
          "base_uri": "https://localhost:8080/",
          "height": 521
        },
        "id": "5H5cNb-KbD_2",
        "outputId": "54950476-c5f3-44ae-cd2f-fc20911a3626"
      },
      "execution_count": 31,
      "outputs": [
        {
          "output_type": "display_data",
          "data": {
            "text/plain": [
              "<IPython.core.display.HTML object>"
            ],
            "text/html": [
              "\n",
              "      <svg width=\"800\" height=\"500\">\n",
              "        <rect width=\"100%\" height=\"100%\" fill=\"black\"/>\n",
              "        <line x1=\"400\" y1=\"250\" x2=\"529.904\" y2=\"325.0\" stroke-linecap=\"round\" style=\"stroke:white;stroke-width:4\"/><line x1=\"529.904\" y1=\"325.0\" x2=\"400.0\" y2=\"400.0\" stroke-linecap=\"round\" style=\"stroke:white;stroke-width:4\"/><line x1=\"400.0\" y1=\"400.0\" x2=\"400.0\" y2=\"250.0\" stroke-linecap=\"round\" style=\"stroke:white;stroke-width:4\"/><line x1=\"400.0\" y1=\"250.0\" x2=\"461.01\" y2=\"387.032\" stroke-linecap=\"round\" style=\"stroke:white;stroke-width:4\"/><line x1=\"461.01\" y1=\"387.032\" x2=\"311.832\" y2=\"371.353\" stroke-linecap=\"round\" style=\"stroke:white;stroke-width:4\"/><line x1=\"311.832\" y1=\"371.353\" x2=\"400.0\" y2=\"250.0\" stroke-linecap=\"round\" style=\"stroke:white;stroke-width:4\"/><line x1=\"400.0\" y1=\"250.0\" x2=\"368.813\" y2=\"396.722\" stroke-linecap=\"round\" style=\"stroke:white;stroke-width:4\"/><line x1=\"368.813\" y1=\"396.722\" x2=\"257.341\" y2=\"296.352\" stroke-linecap=\"round\" style=\"stroke:white;stroke-width:4\"/><line x1=\"257.341\" y1=\"296.352\" x2=\"399.999\" y2=\"249.999\" stroke-linecap=\"round\" style=\"stroke:white;stroke-width:4\"/><line x1=\"399.999\" y1=\"249.999\" x2=\"288.527\" y2=\"350.369\" stroke-linecap=\"round\" style=\"stroke:white;stroke-width:4\"/><line x1=\"288.527\" y1=\"350.369\" x2=\"257.34\" y2=\"203.647\" stroke-linecap=\"round\" style=\"stroke:white;stroke-width:4\"/><line x1=\"257.34\" y1=\"203.647\" x2=\"399.998\" y2=\"250.0\" stroke-linecap=\"round\" style=\"stroke:white;stroke-width:4\"/><line x1=\"399.998\" y1=\"250.0\" x2=\"250.82\" y2=\"265.679\" stroke-linecap=\"round\" style=\"stroke:white;stroke-width:4\"/><line x1=\"250.82\" y1=\"265.679\" x2=\"311.83\" y2=\"128.647\" stroke-linecap=\"round\" style=\"stroke:white;stroke-width:4\"/><line x1=\"311.83\" y1=\"128.647\" x2=\"399.998\" y2=\"250.0\" stroke-linecap=\"round\" style=\"stroke:white;stroke-width:4\"/><line x1=\"399.998\" y1=\"250.0\" x2=\"270.094\" y2=\"175.0\" stroke-linecap=\"round\" style=\"stroke:white;stroke-width:4\"/><line x1=\"270.094\" y1=\"175.0\" x2=\"399.998\" y2=\"100.0\" stroke-linecap=\"round\" style=\"stroke:white;stroke-width:4\"/><line x1=\"399.998\" y1=\"100.0\" x2=\"399.998\" y2=\"250.0\" stroke-linecap=\"round\" style=\"stroke:white;stroke-width:4\"/><line x1=\"399.998\" y1=\"250.0\" x2=\"338.988\" y2=\"112.968\" stroke-linecap=\"round\" style=\"stroke:white;stroke-width:4\"/><line x1=\"338.988\" y1=\"112.968\" x2=\"488.166\" y2=\"128.647\" stroke-linecap=\"round\" style=\"stroke:white;stroke-width:4\"/><line x1=\"488.166\" y1=\"128.647\" x2=\"399.998\" y2=\"250.0\" stroke-linecap=\"round\" style=\"stroke:white;stroke-width:4\"/><line x1=\"399.998\" y1=\"250.0\" x2=\"431.185\" y2=\"103.278\" stroke-linecap=\"round\" style=\"stroke:white;stroke-width:4\"/><line x1=\"431.185\" y1=\"103.278\" x2=\"542.657\" y2=\"203.648\" stroke-linecap=\"round\" style=\"stroke:white;stroke-width:4\"/><line x1=\"542.657\" y1=\"203.648\" x2=\"399.999\" y2=\"250.001\" stroke-linecap=\"round\" style=\"stroke:white;stroke-width:4\"/><line x1=\"399.999\" y1=\"250.001\" x2=\"511.471\" y2=\"149.631\" stroke-linecap=\"round\" style=\"stroke:white;stroke-width:4\"/><line x1=\"511.471\" y1=\"149.631\" x2=\"542.658\" y2=\"296.353\" stroke-linecap=\"round\" style=\"stroke:white;stroke-width:4\"/><line x1=\"542.658\" y1=\"296.353\" x2=\"400.0\" y2=\"250.0\" stroke-linecap=\"round\" style=\"stroke:white;stroke-width:4\"/><line x1=\"400.0\" y1=\"250.0\" x2=\"549.178\" y2=\"234.321\" stroke-linecap=\"round\" style=\"stroke:white;stroke-width:4\"/><line x1=\"549.178\" y1=\"234.321\" x2=\"488.168\" y2=\"371.353\" stroke-linecap=\"round\" style=\"stroke:white;stroke-width:4\"/><line x1=\"488.168\" y1=\"371.353\" x2=\"400.0\" y2=\"250.0\" stroke-linecap=\"round\" style=\"stroke:white;stroke-width:4\"/>\n",
              "        <g visibility=visible transform=\"rotate(360,400.0,250.0) translate(382.0, 232.0)\">\n",
              "<path style=\" stroke:none;fill-rule:evenodd;fill:white;fill-opacity:1;\" d=\"M 18.214844 0.632812 C 16.109375 1.800781 15.011719 4.074219 15.074219 7.132812 L 15.085938 7.652344 L 14.785156 7.496094 C 13.476562 6.824219 11.957031 6.671875 10.40625 7.066406 C 8.46875 7.550781 6.515625 9.15625 4.394531 11.992188 C 3.0625 13.777344 2.679688 14.636719 3.042969 15.027344 L 3.15625 15.152344 L 3.519531 15.152344 C 4.238281 15.152344 4.828125 14.886719 8.1875 13.039062 C 9.386719 12.378906 10.371094 11.839844 10.378906 11.839844 C 10.386719 11.839844 10.355469 11.929688 10.304688 12.035156 C 9.832031 13.09375 9.257812 14.820312 8.96875 16.078125 C 7.914062 20.652344 8.617188 24.53125 11.070312 27.660156 C 11.351562 28.015625 11.363281 27.914062 10.972656 28.382812 C 8.925781 30.84375 7.945312 33.28125 8.238281 35.1875 C 8.289062 35.527344 8.28125 35.523438 8.917969 35.523438 C 10.941406 35.523438 13.074219 34.207031 15.136719 31.6875 C 15.359375 31.417969 15.328125 31.425781 15.5625 31.574219 C 16.292969 32.042969 18.023438 32.964844 18.175781 32.964844 C 18.335938 32.964844 19.941406 32.210938 20.828125 31.71875 C 20.996094 31.625 21.136719 31.554688 21.136719 31.558594 C 21.203125 31.664062 21.898438 32.414062 22.222656 32.730469 C 23.835938 34.300781 25.5625 35.132812 27.582031 35.300781 C 27.90625 35.328125 27.9375 35.308594 28.007812 34.984375 C 28.382812 33.242188 27.625 30.925781 25.863281 28.425781 L 25.542969 27.96875 L 25.699219 27.785156 C 28.945312 23.960938 29.132812 18.699219 26.257812 11.96875 L 26.207031 11.84375 L 27.945312 12.703125 C 31.53125 14.476562 32.316406 14.800781 33.03125 14.800781 C 33.976562 14.800781 33.78125 13.9375 32.472656 12.292969 C 28.519531 7.355469 25.394531 5.925781 21.921875 7.472656 L 21.558594 7.636719 L 21.578125 7.542969 C 21.699219 6.992188 21.761719 5.742188 21.699219 5.164062 C 21.496094 3.296875 20.664062 1.964844 19.003906 0.855469 C 18.480469 0.503906 18.457031 0.5 18.214844 0.632812\"/>\n",
              "</g>\n",
              "      </svg>\n",
              "    "
            ]
          },
          "metadata": {}
        }
      ]
    },
    {
      "cell_type": "markdown",
      "source": [
        "How about a pentagon (5 sides), a hexagon (6 sides), or even an octagon (8 sides)?\n",
        "\n",
        "\n",
        "\n",
        "💡 Hint: A pentagon has 5 sides and 5 angles. Divide 360 by 5, and you will get the degrees to turn each time.\n",
        "\n",
        "Challenge: If you draw a shape with many sides, can you approximate a circle?"
      ],
      "metadata": {
        "id": "OCL8_lRhyn8R"
      }
    },
    {
      "cell_type": "code",
      "source": [
        "# Add your code here:\n"
      ],
      "metadata": {
        "id": "_aTPxQ6D33q2"
      },
      "execution_count": null,
      "outputs": []
    }
  ]
}