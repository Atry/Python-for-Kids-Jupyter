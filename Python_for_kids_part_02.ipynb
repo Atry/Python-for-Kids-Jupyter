{
  "nbformat": 4,
  "nbformat_minor": 0,
  "metadata": {
    "colab": {
      "provenance": [],
      "authorship_tag": "ABX9TyMwDOKv99i9139cMZaL4vZQ",
      "include_colab_link": true
    },
    "kernelspec": {
      "name": "python3",
      "display_name": "Python 3"
    },
    "language_info": {
      "name": "python"
    }
  },
  "cells": [
    {
      "cell_type": "markdown",
      "metadata": {
        "id": "view-in-github",
        "colab_type": "text"
      },
      "source": [
        "<a href=\"https://colab.research.google.com/github/keiki-kode/Python-for-Kids-Jupyter/blob/master/Python_for_kids_part_02.ipynb\" target=\"_parent\"><img src=\"https://colab.research.google.com/assets/colab-badge.svg\" alt=\"Open In Colab\"/></a>"
      ]
    },
    {
      "cell_type": "markdown",
      "source": [
        "This notebook is part of our [Introduction to  Computer Programming in Python for kids](https://www.keikikode.org/intro-to-python-for-kids) course.\n",
        "\n",
        ">*Thank you to the [CoderDojo Brisbane](https://colab.research.google.com/drive/1Frqg5iFd1tsxRwNRZr4KPAHhMkSE5zs_?usp=sharing#scrollTo=xSmZGyEPUogF) for their example.*\n",
        "\n",
        "\n",
        "# Lesson 2: Turtle Graphics\n",
        "\n",
        "The Python Turtle is a simple and fun way to continue learning Python.\n",
        "\n",
        "\n",
        "## Degrees Angles\n",
        "\n",
        "The turtle can turn using the `left` or `right` commands. The values passed are in degrees. You can learn more about the degree system [on this website](https://www.google.com/url?q=https%3A%2F%2Fwww.mathsisfun.com%2Fgeometry%2Fdegrees.html&sa=D&sntz=1&usg=AOvVaw0kEQrwLxGaHm8SI0rw_Hbg).\n",
        "\n",
        "\n",
        "> 👇 You can insert your own code cell by hovering your mouse near the bottom of this cell, and clicking the button + Code.\n",
        "\n",
        "\n",
        "In order to use the Turtle, we will need to import the library by typing the following:"
      ],
      "metadata": {
        "id": "nypLBZVbbN-Y"
      }
    },
    {
      "cell_type": "code",
      "execution_count": 26,
      "metadata": {
        "colab": {
          "base_uri": "https://localhost:8080/"
        },
        "id": "8nMd85BpVDW6",
        "outputId": "557133ef-1176-40b7-d0de-1ec616e9a6b7"
      },
      "outputs": [
        {
          "output_type": "stream",
          "name": "stdout",
          "text": [
            "Requirement already satisfied: ColabTurtle in /usr/local/lib/python3.10/dist-packages (2.1.0)\n"
          ]
        }
      ],
      "source": [
        "!pip3 install ColabTurtle\n",
        "from ColabTurtle.Turtle import *"
      ]
    },
    {
      "cell_type": "markdown",
      "source": [
        "`initializeTurtle()` clears the screen, and sends the turtle back to the middle, ready to start over.\n",
        "\n",
        "Here we asked the turtle to turn right and draw a line. The line is 150 pixels long.\n",
        "\n",
        "👉_ Try changing the code below to get a different direction and length."
      ],
      "metadata": {
        "id": "OJ66ieT3xS4l"
      }
    },
    {
      "cell_type": "code",
      "source": [
        "initializeTurtle()\n",
        "\n",
        "right(90)           # Try changing the turtle's direction\n",
        "forward(150)        # Try moving a smaller or bigger step"
      ],
      "metadata": {
        "id": "Pf3PSBtfxbsT"
      },
      "execution_count": null,
      "outputs": []
    },
    {
      "cell_type": "markdown",
      "source": [
        "Just by adding a few lines of code, you will have a square.\n",
        "\n",
        "👉_ Try it below:"
      ],
      "metadata": {
        "id": "4agvi2tnxoxp"
      }
    },
    {
      "cell_type": "code",
      "source": [
        "initializeTurtle()\n",
        "\n",
        "right(90)\n",
        "forward(150)\n",
        "right(90)\n",
        "forward(150)\n",
        "right(90)\n",
        "forward(150)\n",
        "right(90)\n",
        "forward(150)"
      ],
      "metadata": {
        "id": "qaHjQ0yCxpoE"
      },
      "execution_count": null,
      "outputs": []
    },
    {
      "cell_type": "markdown",
      "source": [
        "Loop around\n",
        "We asked the turtle to draw a square by telling it to:\n",
        "\n",
        "- Turn right, then go forward 150 pixels\n",
        "- Turn right, then go forward 150 pixels\n",
        "- Turn right, then go forward 150 pixels\n",
        "- Turn right, then go forward 150 pixels\n",
        "\n",
        "Here's another way to tell the turtle to perform the same actions:\n",
        "\n",
        "- Repeat this 4 times:\n",
        "- Turn right, then go forward 150 pixels\n",
        "\n",
        "This is called a loop in Python. A loop repeats the same set of code - as many times as you specify. For those familiar with `Scratch`, this is just like the `Repeat` block."
      ],
      "metadata": {
        "id": "uB9V8sEXx6y8"
      }
    },
    {
      "cell_type": "code",
      "source": [
        "initializeTurtle()\n",
        "side_length = 100\n",
        "angle = 360/4\n",
        "\n",
        "for i in range(4):\n",
        "  forward(side_length)\n",
        "  right(angle)"
      ],
      "metadata": {
        "id": "tSA0_JCEXOvN"
      },
      "execution_count": null,
      "outputs": []
    },
    {
      "cell_type": "markdown",
      "source": [
        "# Teach the turtle a new trick\n",
        "We can make the loop for drawing a square into a `function` that can be re-used many times, just by calling the function by name. This is kind of like saying to the turtle, \"Draw a square, please.\" The turtle knows what \"draw a square\" means because you have created a function to do just that.\n",
        "\n",
        "We'll name our function `drawSquare`. You write a function this way:"
      ],
      "metadata": {
        "id": "At-whlmLyNJL"
      }
    },
    {
      "cell_type": "code",
      "source": [
        "def drawSquare():          # Define the function name\n",
        "  for side in range(4):    # Code for drawing a square goes here - beginning with an indent\n",
        "    right(90)\n",
        "    forward(150)"
      ],
      "metadata": {
        "id": "x_D3OCmabAYQ"
      },
      "execution_count": 40,
      "outputs": []
    },
    {
      "cell_type": "markdown",
      "source": [
        "You can call your function by calling your function's name, followed by parenthesis ()."
      ],
      "metadata": {
        "id": "Uj8HIH5S02vV"
      }
    },
    {
      "cell_type": "code",
      "source": [
        "initializeTurtle()\n",
        "\n",
        "drawSquare()"
      ],
      "metadata": {
        "id": "aNW8ieBk016G"
      },
      "execution_count": null,
      "outputs": []
    },
    {
      "cell_type": "markdown",
      "source": [
        "Make your own functions\n",
        "Let's finish this exercise by creating a few functions of your own.\n",
        "\n",
        "👇 In the code cell below, write a function that draws a triangle, then call it.\n",
        "\n",
        "💡 Try typing the code yourself, instead of copying and pasting from the previous code. Programmers generally learn more by typing the code themselves.\n",
        "\n",
        "Hint: A triangle has 3 sides. Turn 120 degrees instead of 90 (360/3 = 120)"
      ],
      "metadata": {
        "id": "vV2uRBpOy9wW"
      }
    },
    {
      "cell_type": "code",
      "source": [
        "# Add your code here:\n"
      ],
      "metadata": {
        "id": "ouGPVwdLy9J3"
      },
      "execution_count": null,
      "outputs": []
    },
    {
      "cell_type": "markdown",
      "source": [
        "For example, let's define a function to draw triangles:"
      ],
      "metadata": {
        "id": "psdUuYBp2t1N"
      }
    },
    {
      "cell_type": "code",
      "source": [
        "def drawTriangle():\n",
        "  for side in range(3):\n",
        "    right(120)\n",
        "    forward(150)"
      ],
      "metadata": {
        "id": "9qKH5fE402Go"
      },
      "execution_count": 42,
      "outputs": []
    },
    {
      "cell_type": "markdown",
      "source": [
        "In order to make your function more useful, we can pass the length of the triangle as a parameter, let,s call it a variable named `myLenght`."
      ],
      "metadata": {
        "id": "r3Y5Kk9o1XNb"
      }
    },
    {
      "cell_type": "code",
      "source": [
        "def drawTriangle(myLenght):\n",
        "  for side in [1, 2, 3]:\n",
        "    # print(side)\n",
        "    forward(myLenght)\n",
        "    right(360/3)\n",
        "\n",
        "initializeTurtle()\n",
        "\n",
        "drawTriangle(180)\n",
        "left(120)\n",
        "drawTriangle(120)\n",
        "left(120)\n",
        "drawTriangle(50)"
      ],
      "metadata": {
        "id": "-WmniboJblA0"
      },
      "execution_count": null,
      "outputs": []
    },
    {
      "cell_type": "markdown",
      "source": [
        "You can also call your function in a loop:"
      ],
      "metadata": {
        "id": "gp5KOKsr2BCk"
      }
    },
    {
      "cell_type": "code",
      "source": [
        "initializeTurtle()\n",
        "speed(7)\n",
        "\n",
        "# for sq in range(6):\n",
        "#   drawSquare()          # Call your function to run it\n",
        "#   right(60)\n",
        "\n",
        "for t in range(10):\n",
        "  drawTriangle()\n",
        "  right(36)\n"
      ],
      "metadata": {
        "id": "5H5cNb-KbD_2"
      },
      "execution_count": null,
      "outputs": []
    },
    {
      "cell_type": "markdown",
      "source": [
        "How about a pentagon (5 sides), a hexagon (6 sides), or even an octagon (8 sides)?\n",
        "\n",
        "\n",
        "\n",
        "💡 Hint: A pentagon has 5 sides and 5 angles. Divide 360 by 5, and you will get the degrees to turn each time.\n",
        "\n",
        "Challenge: If you draw a shape with many sides, can you approximate a circle?"
      ],
      "metadata": {
        "id": "OCL8_lRhyn8R"
      }
    },
    {
      "cell_type": "code",
      "source": [
        "# Add your code here:\n"
      ],
      "metadata": {
        "id": "_aTPxQ6D33q2"
      },
      "execution_count": null,
      "outputs": []
    }
  ]
}