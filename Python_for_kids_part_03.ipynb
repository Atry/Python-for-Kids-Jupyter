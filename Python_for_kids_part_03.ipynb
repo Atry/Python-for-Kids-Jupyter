{
  "nbformat": 4,
  "nbformat_minor": 0,
  "metadata": {
    "colab": {
      "provenance": [],
      "include_colab_link": true
    },
    "kernelspec": {
      "name": "python3",
      "display_name": "Python 3"
    }
  },
  "cells": [
    {
      "cell_type": "markdown",
      "metadata": {
        "id": "view-in-github",
        "colab_type": "text"
      },
      "source": [
        "<a href=\"https://colab.research.google.com/github/keiki-kode/Python-for-Kids-Jupyter/blob/master/Python_for_kids_part_03.ipynb\" target=\"_parent\"><img src=\"https://colab.research.google.com/assets/colab-badge.svg\" alt=\"Open In Colab\"/></a>"
      ]
    },
    {
      "cell_type": "markdown",
      "metadata": {
        "id": "-u2W4TfW4pON"
      },
      "source": [
        "\n",
        "This notebook is part of our [Introduction to  Computer Programming in Python for kids](https://www.keikikode.org/intro-to-python-for-kids) course.\n",
        "\n",
        "\n",
        "# Lesson 3: The Joke Machine"
      ]
    },
    {
      "cell_type": "markdown",
      "metadata": {
        "id": "o3vKSWTTQe1J"
      },
      "source": [
        "# Random numbers:\n",
        "\n",
        "Generating a random number with Python is easy,  you can use a library do do that. `random` is the library we are using. `randint` tells Python that we want a randon Integer. The two parameters passed are the range (minimum and maximum values) we want the random number to be within.\n",
        "\n",
        "To get a random number between 1 and 100:"
      ]
    },
    {
      "cell_type": "code",
      "metadata": {
        "id": "nCVFNfKgQpJ0"
      },
      "source": [
        "import random\n",
        "print(random.randint(1,101))"
      ],
      "execution_count": null,
      "outputs": []
    },
    {
      "cell_type": "markdown",
      "metadata": {
        "id": "m9VdOWouQqMA"
      },
      "source": [
        "If we want to generate 10 random numbers, let's use a `for` loop:"
      ]
    },
    {
      "cell_type": "code",
      "metadata": {
        "id": "gDEr8b_AQqc3"
      },
      "source": [
        "import random\n",
        "for x in range(10):\n",
        "  print(random.randint(1,101))"
      ],
      "execution_count": null,
      "outputs": []
    },
    {
      "cell_type": "markdown",
      "metadata": {
        "id": "NWxBfVeiyWeU"
      },
      "source": [
        "> Note that these numbers are not true random numbers but are \"pseudo random\" numbers due to the way they are calcolated...but this is good enough for our use!"
      ]
    },
    {
      "cell_type": "markdown",
      "metadata": {
        "id": "myceEYpuPaxc"
      },
      "source": [
        "# Data Structures\n",
        "\n",
        "---\n",
        "\n",
        "One of the most commonly used data structures used in Python are lists.\n",
        "\n",
        "\n",
        "##Python Lists\n",
        "\n",
        "A `list` in Python is a special data type that allows us to create a list of items. The Python syntax for creating a list is the square brackets `[` `]` like this:\n",
        "\n"
      ]
    },
    {
      "cell_type": "code",
      "metadata": {
        "id": "2KD-Z4o9QFIW",
        "colab": {
          "base_uri": "https://localhost:8080/",
          "height": 34
        },
        "outputId": "4a1aa750-d871-43c3-8a4d-75771632ca77"
      },
      "source": [
        "myFruitList = [\"apple\", \"banana\", \"plum\"]\n",
        "print(myFruitList)"
      ],
      "execution_count": null,
      "outputs": [
        {
          "output_type": "stream",
          "text": [
            "['apple', 'banana', 'plum']\n"
          ],
          "name": "stdout"
        }
      ]
    },
    {
      "cell_type": "markdown",
      "metadata": {
        "id": "yi9-3YZ2zb9c"
      },
      "source": [
        "Items in a list can be retrieved using their index number, starting with zero. The first item is item 0, the second is item 1, etc. It is a little confusing, but that is how computers work. The suntax for retrieving the values is:"
      ]
    },
    {
      "cell_type": "code",
      "metadata": {
        "id": "T3ZgNc1o0ENi"
      },
      "source": [
        "print(myFruitList[0])\n",
        "print(myFruitList[1])"
      ],
      "execution_count": null,
      "outputs": []
    },
    {
      "cell_type": "markdown",
      "metadata": {
        "id": "1xpR7OYBQKZb"
      },
      "source": [
        "One fo the interesting properties of a list is that we can *iterate* over the items in the list:\n",
        "\n",
        "> get the ith item in list\n",
        "> add item to a list\n",
        "> delete item from list\n"
      ]
    },
    {
      "cell_type": "code",
      "metadata": {
        "id": "n0ceT8X6QQzd"
      },
      "source": [
        "for myFruit in myFruitList:\n",
        "  print(myFruit)"
      ],
      "execution_count": null,
      "outputs": []
    },
    {
      "cell_type": "markdown",
      "metadata": {
        "id": "DpHXNiYW06ph"
      },
      "source": [
        "We can also add items to an existing list:"
      ]
    },
    {
      "cell_type": "code",
      "metadata": {
        "id": "AS8NENps1AOP"
      },
      "source": [
        "myFruitList.append('kiwi')\n",
        "print(myFruitList)"
      ],
      "execution_count": null,
      "outputs": []
    },
    {
      "cell_type": "markdown",
      "metadata": {
        "id": "ByJI6RUQ1Oxj"
      },
      "source": [
        "and we can also delete items, and there re several ways to do that.\n",
        "\n",
        "`remove` will delete the first matching value, not a specific index\n",
        "`del` removes the item at a specific index\n",
        "\n",
        "> Note that there is also another option, `pop`, which removes the item at a specific index and returns it.\n"
      ]
    },
    {
      "cell_type": "code",
      "metadata": {
        "id": "5qhzkDHP19wn"
      },
      "source": [
        "myFruitList.remove('kiwi')\n",
        "print(myFruitList)\n",
        "del myFruitList[0]\n",
        "print(myFruitList)\n"
      ],
      "execution_count": null,
      "outputs": []
    },
    {
      "cell_type": "markdown",
      "metadata": {
        "id": "p19fZiK7Q8fl"
      },
      "source": [
        "## Fun project with lists - random jokes\n",
        "\n",
        "Let's see how we can use lists to tell users a random joke. We can do so by adding jokes to a list, and then generate a random idex number between 0 and the lenght of the list. Note that sonce we start counting items at index 0, if there are 5 items in the list then the last item will be `item[4]`:\n",
        "\n"
      ]
    },
    {
      "cell_type": "code",
      "metadata": {
        "id": "nFT_x-DD3K-Z"
      },
      "source": [
        "myJokeList = [\n",
        "    'Why is Peter Pan always flying? He neverlands.',\n",
        "    'Why couldn\\'t the bicycle stand up? Because it was two tired!',\n",
        "    \"I'm so good at sleeping. I can do it with my eyes closed.\",\n",
        "    'What did the traffic light say to the car? Don’t look! I’m about to change.',\n",
        "    'Why wouldn’t the shrimp share his treasure? Because he was a little shellfish.'\n",
        "]"
      ],
      "execution_count": null,
      "outputs": []
    },
    {
      "cell_type": "markdown",
      "metadata": {
        "id": "xi3D85T69Kox"
      },
      "source": [
        "Note that the second item has `'` in the sentence itself, and since we are using single quotes to wrap the strings, we can use the `\\` character to **escape** the following character, which means that we tell Python to ignore that `'` is a special character that should mark the end of the string and instead just print that character.\n",
        "\n",
        "Another way to deal with that issue was used in the third item, which is wrapped with double quotes, so the single quote is just another character.\n",
        "\n",
        "> The use of mixed single and double quotes was used as an illustration, we recommend being consistent.\n",
        "\n",
        "*Credit - Jokes were taken from the following website:* http://pun.me/pages/funny-jokes.php\n",
        "\n",
        "Now let's get a random joke:"
      ]
    },
    {
      "cell_type": "code",
      "metadata": {
        "id": "FSVHHoWN_C3p"
      },
      "source": [
        "  print(myJokeList[random.randint(0,4)])"
      ],
      "execution_count": null,
      "outputs": []
    },
    {
      "cell_type": "markdown",
      "metadata": {
        "id": "P8MhGUvMAAuW"
      },
      "source": [
        "In the previous code we generated a random number between 0 and 4, and used that number as teh index to retrieve an item from the list. But what if we were to add or delete an item from the list? We don't want to have to change the code every time we change the data, we can use `len` to dynamically get the number of items in the list, the lenght of the list.\n",
        "\n",
        "Instead of adding this to the same line, which is efficent but can be harder to inderstand, let's split the actions in several lines and assign variables:"
      ]
    },
    {
      "cell_type": "code",
      "metadata": {
        "id": "9WSfGN5lA5Kj"
      },
      "source": [
        "listLenght = len(myJokeList)\n",
        "print('The list has %s items' % listLenght)\n",
        "\n",
        "myRandomNumber = random.randint(0, (listLenght - 1))\n",
        "print('The randon number is %s' % myRandomNumber)\n",
        "\n",
        "print(myJokeList[myRandomNumber])"
      ],
      "execution_count": null,
      "outputs": []
    },
    {
      "cell_type": "markdown",
      "metadata": {
        "id": "_Dz8v5iyRHXr"
      },
      "source": [
        "#Dictionaries\n",
        "\n",
        "Python dictionaries are similar to lists, they are both used to store information. The main difference between the two is how the data is retrieved. List elements are accessed by their position in the list, via indexing. Dictionary elements are accessed via keys.\n",
        "\n",
        "Lists are defined using the `[]`, dictionaries are defined using `{}`.\n",
        "\n",
        "As an example, let's say we want to write a Python script that can retrieve the capital for a particular US State.\n",
        "\n",
        "The list would look something like this:"
      ]
    },
    {
      "cell_type": "code",
      "metadata": {
        "id": "OtE_j-CtKdxX",
        "colab": {
          "base_uri": "https://localhost:8080/",
          "height": 34
        },
        "outputId": "c9fa88c5-72dd-4e11-86a2-9091523f75c5"
      },
      "source": [
        "stateCapitalDict={\n",
        "    'Alabama': 'Montgomery',\n",
        "    'Alaska': 'Juneau',\n",
        "    'Arizona':'Phoenix',\n",
        "    'Arkansas':'Little Rock',\n",
        "    'California': 'Sacramento',\n",
        "    'Colorado':'Denver',\n",
        "    'Connecticut':'Hartford',\n",
        "    'Delaware':'Dover',\n",
        "    'Florida': 'Tallahassee',\n",
        "    'Georgia': 'Atlanta',\n",
        "    'Hawaii': 'Honolulu'\n",
        "}\n",
        "\n",
        "print(stateCapitalDict['Hawaii'])"
      ],
      "execution_count": null,
      "outputs": [
        {
          "output_type": "stream",
          "text": [
            "Honolulu\n"
          ],
          "name": "stdout"
        }
      ]
    },
    {
      "cell_type": "markdown",
      "metadata": {
        "id": "68lk5diALHrD"
      },
      "source": [
        "We can *iterate* through all of the keys and values in a Dictionary:"
      ]
    },
    {
      "cell_type": "code",
      "metadata": {
        "id": "gUM9JHM4LIGd",
        "colab": {
          "base_uri": "https://localhost:8080/",
          "height": 204
        },
        "outputId": "6c4d30fb-5317-48a0-a656-cedf3ec898d9"
      },
      "source": [
        "for key, value in stateCapitalDict.items():\n",
        "    print('The %s State Capital is %s' % (key, value))"
      ],
      "execution_count": null,
      "outputs": [
        {
          "output_type": "stream",
          "text": [
            "The Alabama State Capital is Montgomery\n",
            "The Alaska State Capital is Juneau\n",
            "The Arizona State Capital is Phoenix\n",
            "The Arkansas State Capital is Little Rock\n",
            "The California State Capital is Sacramento\n",
            "The Colorado State Capital is Denver\n",
            "The Connecticut State Capital is Hartford\n",
            "The Delaware State Capital is Dover\n",
            "The Florida State Capital is Tallahassee\n",
            "The Georgia State Capital is Atlanta\n",
            "The Hawaii State Capital is Honolulu\n"
          ],
          "name": "stdout"
        }
      ]
    }
  ]
}