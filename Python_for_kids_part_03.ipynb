{
  "nbformat": 4,
  "nbformat_minor": 0,
  "metadata": {
    "colab": {
      "name": "Python_for_kids_part_03.ipynb",
      "version": "0.3.2",
      "provenance": [],
      "collapsed_sections": []
    },
    "kernelspec": {
      "name": "python3",
      "display_name": "Python 3"
    }
  },
  "cells": [
    {
      "cell_type": "markdown",
      "metadata": {
        "id": "-u2W4TfW4pON",
        "colab_type": "text"
      },
      "source": [
        "## **Introduction to Python for kids - Part 3**"
      ]
    },
    {
      "cell_type": "markdown",
      "metadata": {
        "id": "o3vKSWTTQe1J",
        "colab_type": "text"
      },
      "source": [
        "# Random numbers:\n",
        "\n",
        "Generating a random number with Python is easy,  you can use a library do do that. `random` is the library we are using. `randint` tells Python that we want a randon Integer. The two parameters passed are the range (minimum and maximum values) we want the random number to be within.\n",
        "\n",
        "To get a random number between 1 and 100:"
      ]
    },
    {
      "cell_type": "code",
      "metadata": {
        "id": "nCVFNfKgQpJ0",
        "colab_type": "code",
        "colab": {
          "base_uri": "https://localhost:8080/",
          "height": 34
        },
        "outputId": "a5ee5e89-4fe9-4761-8622-d506542f2da9"
      },
      "source": [
        "import random\n",
        "print(random.randint(1,101))"
      ],
      "execution_count": 8,
      "outputs": [
        {
          "output_type": "stream",
          "text": [
            "10\n"
          ],
          "name": "stdout"
        }
      ]
    },
    {
      "cell_type": "markdown",
      "metadata": {
        "id": "m9VdOWouQqMA",
        "colab_type": "text"
      },
      "source": [
        "If we want to generate 10 random numbers, let's use a `for` loop:"
      ]
    },
    {
      "cell_type": "code",
      "metadata": {
        "id": "gDEr8b_AQqc3",
        "colab_type": "code",
        "colab": {
          "base_uri": "https://localhost:8080/",
          "height": 187
        },
        "outputId": "53894312-5c66-4550-b21d-0b5eda4187c1"
      },
      "source": [
        "import random\n",
        "for x in range(10):\n",
        "  print(random.randint(1,101))"
      ],
      "execution_count": 10,
      "outputs": [
        {
          "output_type": "stream",
          "text": [
            "51\n",
            "87\n",
            "90\n",
            "69\n",
            "57\n",
            "9\n",
            "34\n",
            "58\n",
            "59\n",
            "31\n"
          ],
          "name": "stdout"
        }
      ]
    },
    {
      "cell_type": "markdown",
      "metadata": {
        "id": "NWxBfVeiyWeU",
        "colab_type": "text"
      },
      "source": [
        "> Note that these numbers are not true random numbers but are \"pseudo random\" numbers due to the way they are calcolated...but this is good enough for our use!"
      ]
    },
    {
      "cell_type": "markdown",
      "metadata": {
        "id": "myceEYpuPaxc",
        "colab_type": "text"
      },
      "source": [
        "# Data Structures\n",
        "\n",
        "---\n",
        "\n",
        "One of the most commonly used data structures used in Python are lists.\n",
        "\n",
        "\n",
        "##Python Lists\n",
        "\n",
        "A `list` in Python is a special data type that allows us to create a list of items. The Python syntax for creating a list is the square brackets `[` `]` like this:\n",
        "\n"
      ]
    },
    {
      "cell_type": "code",
      "metadata": {
        "id": "2KD-Z4o9QFIW",
        "colab_type": "code",
        "colab": {
          "base_uri": "https://localhost:8080/",
          "height": 34
        },
        "outputId": "ee0c09e4-8db1-47e6-baa4-c9d3218749ab"
      },
      "source": [
        "myFruitList = [\"apple\", \"banana\", \"plum\"]\n",
        "print(myFruitList)"
      ],
      "execution_count": 11,
      "outputs": [
        {
          "output_type": "stream",
          "text": [
            "['apple', 'banana', 'cherry']\n"
          ],
          "name": "stdout"
        }
      ]
    },
    {
      "cell_type": "markdown",
      "metadata": {
        "id": "yi9-3YZ2zb9c",
        "colab_type": "text"
      },
      "source": [
        "Items in a list can be retrieved using their index number, starting with zero. The first item is item 0, the second is item 1, etc. It is a little confusing, but that is how computers work. The suntax for retrieving the values is:"
      ]
    },
    {
      "cell_type": "code",
      "metadata": {
        "id": "T3ZgNc1o0ENi",
        "colab_type": "code",
        "colab": {
          "base_uri": "https://localhost:8080/",
          "height": 51
        },
        "outputId": "2d3405a6-91aa-43f4-d5ba-081726f383e4"
      },
      "source": [
        "print(myFruitList[0])\n",
        "print(myFruitList[1])"
      ],
      "execution_count": 14,
      "outputs": [
        {
          "output_type": "stream",
          "text": [
            "apple\n",
            "banana\n"
          ],
          "name": "stdout"
        }
      ]
    },
    {
      "cell_type": "markdown",
      "metadata": {
        "id": "1xpR7OYBQKZb",
        "colab_type": "text"
      },
      "source": [
        "One fo the interesting properties of a list is that we can *iterate* over the items in the list:\n",
        "\n",
        "> get the ith item in list\n",
        "> add item to a list\n",
        "> delete item from list\n"
      ]
    },
    {
      "cell_type": "code",
      "metadata": {
        "id": "n0ceT8X6QQzd",
        "colab_type": "code",
        "colab": {
          "base_uri": "https://localhost:8080/",
          "height": 68
        },
        "outputId": "d5df4546-dde7-49d8-dabe-070fd4abcf8e"
      },
      "source": [
        "for myFruit in myFruitList:\n",
        "  print(myFruit)"
      ],
      "execution_count": 15,
      "outputs": [
        {
          "output_type": "stream",
          "text": [
            "apple\n",
            "banana\n",
            "cherry\n"
          ],
          "name": "stdout"
        }
      ]
    },
    {
      "cell_type": "markdown",
      "metadata": {
        "id": "DpHXNiYW06ph",
        "colab_type": "text"
      },
      "source": [
        "We can also add items to an existing list:"
      ]
    },
    {
      "cell_type": "code",
      "metadata": {
        "id": "AS8NENps1AOP",
        "colab_type": "code",
        "colab": {
          "base_uri": "https://localhost:8080/",
          "height": 34
        },
        "outputId": "a64c20a8-908c-4d53-8fc7-59bdb38433a3"
      },
      "source": [
        "myFruitList.append('kiwi')\n",
        "print(myFruitList)"
      ],
      "execution_count": 17,
      "outputs": [
        {
          "output_type": "stream",
          "text": [
            "['apple', 'banana', 'cherry', 'kiwi']\n"
          ],
          "name": "stdout"
        }
      ]
    },
    {
      "cell_type": "markdown",
      "metadata": {
        "id": "ByJI6RUQ1Oxj",
        "colab_type": "text"
      },
      "source": [
        "and we can also delete items, and there re several ways to do that.\n",
        "\n",
        "`remove` will delete the first matching value, not a specific index\n",
        "`del` removes the item at a specific index\n",
        "\n",
        "> Note that there is also another option, `pop`, which removes the item at a specific index and returns it.\n"
      ]
    },
    {
      "cell_type": "code",
      "metadata": {
        "id": "5qhzkDHP19wn",
        "colab_type": "code",
        "colab": {
          "base_uri": "https://localhost:8080/",
          "height": 51
        },
        "outputId": "14fc491b-e0a3-42e7-98a9-a8a4af6b31ef"
      },
      "source": [
        "myFruitList.remove('kiwi')\n",
        "print(myFruitList)\n",
        "del myFruitList[0]\n",
        "print(myFruitList)\n"
      ],
      "execution_count": 18,
      "outputs": [
        {
          "output_type": "stream",
          "text": [
            "['apple', 'banana', 'cherry']\n",
            "['banana', 'cherry']\n"
          ],
          "name": "stdout"
        }
      ]
    },
    {
      "cell_type": "markdown",
      "metadata": {
        "id": "p19fZiK7Q8fl",
        "colab_type": "text"
      },
      "source": [
        "## Fun project with lists - random jokes\n",
        "\n",
        "Let's see how we can use lists to tell users a random joke. We can do so by adding jokes to a list, and then generate a random idex number between 0 and the lenght of the list. Note that sonce we start counting items at index 0, if there are 5 items in the list then the last item will be `item[4]`:\n",
        "\n"
      ]
    },
    {
      "cell_type": "code",
      "metadata": {
        "id": "nFT_x-DD3K-Z",
        "colab_type": "code",
        "colab": {}
      },
      "source": [
        "myJokeList = [\n",
        "    'Why is Peter Pan always flying? He neverlands.', \n",
        "    'Why couldn\\'t the bicycle stand up? Because it was two tired!',\n",
        "    \"I'm so good at sleeping. I can do it with my eyes closed.\",\n",
        "    'What did the traffic light say to the car? Don’t look! I’m about to change.',\n",
        "    'Why wouldn’t the shrimp share his treasure? Because he was a little shellfish.'\n",
        "]"
      ],
      "execution_count": 0,
      "outputs": []
    },
    {
      "cell_type": "markdown",
      "metadata": {
        "id": "xi3D85T69Kox",
        "colab_type": "text"
      },
      "source": [
        "Note that the second item has `'` in the sentence itself, and since we are using single quotes to wrap the strings, we can use the `\\` character to **escape** the following character, which means that we tell Python to ignore that `'` is a special character that should mark the end of the string and instead just print that character.\n",
        "\n",
        "Another way to deal with that issue was used in the third item, which is wrapped with double quotes, so the single quote is just another character.\n",
        "\n",
        "> The use of mixed single and double quotes was used as an illustration, we recommend being consistent.\n",
        "\n",
        "*Credit - Jokes were taken from the following website:* http://pun.me/pages/funny-jokes.php\n",
        "\n",
        "Now let's get a random joke:"
      ]
    },
    {
      "cell_type": "code",
      "metadata": {
        "id": "FSVHHoWN_C3p",
        "colab_type": "code",
        "colab": {
          "base_uri": "https://localhost:8080/",
          "height": 34
        },
        "outputId": "be69be00-ce64-4edb-dfdb-7cca14c37dfb"
      },
      "source": [
        "  print(myJokeList[random.randint(0,4)])"
      ],
      "execution_count": 37,
      "outputs": [
        {
          "output_type": "stream",
          "text": [
            "What did the traffic light say to the car? Don’t look! I’m about to change.\n"
          ],
          "name": "stdout"
        }
      ]
    },
    {
      "cell_type": "markdown",
      "metadata": {
        "id": "P8MhGUvMAAuW",
        "colab_type": "text"
      },
      "source": [
        "In the previous code we generated a random number between 0 and 4, and used that number as teh index to retrieve an item from the list. But what if we were to add or delete an item from the list? We don't want to have to change the code every time we change the data, we can use `len` to dynamically get the number of items in the list, the lenght of the list.\n",
        "\n",
        "Instead of adding this to the same line, which is efficent but can be harder to inderstand, let's split the actions in several lines and assign variables:"
      ]
    },
    {
      "cell_type": "code",
      "metadata": {
        "id": "9WSfGN5lA5Kj",
        "colab_type": "code",
        "colab": {
          "base_uri": "https://localhost:8080/",
          "height": 68
        },
        "outputId": "abc50a95-2bbd-4c45-9515-f987c867d68f"
      },
      "source": [
        "listLenght = len(myJokeList)\n",
        "print('The list has %s items' % listLenght)\n",
        "  \n",
        "myRandomNumber = random.randint(0, (listLenght - 1))\n",
        "print('The randon number is %s' % myRandomNumber)\n",
        "\n",
        "print(myJokeList[myRandomNumber])"
      ],
      "execution_count": 41,
      "outputs": [
        {
          "output_type": "stream",
          "text": [
            "The list has 5 items\n",
            "The randon number is 1\n",
            "Why couldn't the bicycle stand up? Because it was two tired!\n"
          ],
          "name": "stdout"
        }
      ]
    },
    {
      "cell_type": "markdown",
      "metadata": {
        "id": "_Dz8v5iyRHXr",
        "colab_type": "text"
      },
      "source": [
        "#Dictionaries"
      ]
    },
    {
      "cell_type": "markdown",
      "metadata": {
        "id": "ZmXRhrgpRL5j",
        "colab_type": "text"
      },
      "source": [
        "#Fun project 2 - knock-knock jokes"
      ]
    },
    {
      "cell_type": "markdown",
      "metadata": {
        "id": "13LrDe7j5kpe",
        "colab_type": "text"
      },
      "source": [
        "We'll learn more about lists and loops in future lessons.\n",
        "\n",
        "\n",
        "This Python 3 notebook is intended to provide some fun exercises designed to introduce kids to the basics of computer programming. For additional details please ...\n",
        "\n",
        "#draw fractals????\n",
        "\n",
        "#if conditions\n",
        "\n",
        "\n",
        "add, remove from lists\n",
        "\n",
        "#JOKES\n",
        "\n",
        "get a joke from an API???"
      ]
    },
    {
      "cell_type": "markdown",
      "metadata": {
        "id": "WOovl1Sa6UTZ",
        "colab_type": "text"
      },
      "source": [
        "\n",
        "Learning computer programming is increasingly becoming a necessary skill for many professions.\n",
        "\n",
        "Why learn Python? \n",
        "\n",
        "Difference between an interpreter and a compiler\n",
        "\n",
        "While teh specific syntax and grammar of the various programming languages such as C, C++, Java, Go, etc. can vary widely, they all share many characteristics and principles, which makes learning another programming language ...so don't worry too much about which language to start with\n",
        "\n",
        "There are some subtle (and some not so subtle!) differences between Python 2 and Python 3, but for people just getting started with Python, we recommend that you stick with version 3.x, why learn something that is already outdated?"
      ]
    },
    {
      "cell_type": "markdown",
      "metadata": {
        "id": "_24H7V8b7IVA",
        "colab_type": "text"
      },
      "source": [
        "#Displaying text on the screen\n",
        "\n",
        "The most fundamental python ... is the `print` statement. It allows the developer to provide feedback to the user about what the program is doing.\n",
        "\n"
      ]
    },
    {
      "cell_type": "code",
      "metadata": {
        "id": "S23yGuFa4oIi",
        "colab_type": "code",
        "outputId": "b662344f-3878-4c09-d7ff-9aec4b534f33",
        "colab": {
          "base_uri": "https://localhost:8080/",
          "height": 368
        }
      },
      "source": [
        "# import turtle\n",
        "from IPython import display\n",
        "from ipyturtle import Turtle\n",
        "\n",
        "\n",
        "turtle.forward(15)"
      ],
      "execution_count": 0,
      "outputs": [
        {
          "output_type": "error",
          "ename": "ModuleNotFoundError",
          "evalue": "ignored",
          "traceback": [
            "\u001b[0;31m---------------------------------------------------------------------------\u001b[0m",
            "\u001b[0;31mModuleNotFoundError\u001b[0m                       Traceback (most recent call last)",
            "\u001b[0;32m<ipython-input-1-8567c6cb169b>\u001b[0m in \u001b[0;36m<module>\u001b[0;34m()\u001b[0m\n\u001b[1;32m      1\u001b[0m \u001b[0;32mfrom\u001b[0m \u001b[0mIPython\u001b[0m \u001b[0;32mimport\u001b[0m \u001b[0mdisplay\u001b[0m\u001b[0;34m\u001b[0m\u001b[0;34m\u001b[0m\u001b[0m\n\u001b[0;32m----> 2\u001b[0;31m \u001b[0;32mfrom\u001b[0m \u001b[0mipyturtle\u001b[0m \u001b[0;32mimport\u001b[0m \u001b[0mTurtle\u001b[0m\u001b[0;34m\u001b[0m\u001b[0;34m\u001b[0m\u001b[0m\n\u001b[0m\u001b[1;32m      3\u001b[0m \u001b[0;34m\u001b[0m\u001b[0m\n\u001b[1;32m      4\u001b[0m \u001b[0;34m\u001b[0m\u001b[0m\n\u001b[1;32m      5\u001b[0m \u001b[0mturtle\u001b[0m\u001b[0;34m.\u001b[0m\u001b[0mforward\u001b[0m\u001b[0;34m(\u001b[0m\u001b[0;36m15\u001b[0m\u001b[0;34m)\u001b[0m\u001b[0;34m\u001b[0m\u001b[0;34m\u001b[0m\u001b[0m\n",
            "\u001b[0;31mModuleNotFoundError\u001b[0m: No module named 'ipyturtle'",
            "",
            "\u001b[0;31m---------------------------------------------------------------------------\u001b[0;32m\nNOTE: If your import is failing due to a missing package, you can\nmanually install dependencies using either !pip or !apt.\n\nTo view examples of installing some common dependencies, click the\n\"Open Examples\" button below.\n\u001b[0;31m---------------------------------------------------------------------------\u001b[0m\n"
          ]
        }
      ]
    },
    {
      "cell_type": "markdown",
      "metadata": {
        "id": "YCd4NnhB7mV7",
        "colab_type": "text"
      },
      "source": [
        "Python is not a very picky programming language, and the `print` statement will also work with double quotes `\"`."
      ]
    },
    {
      "cell_type": "code",
      "metadata": {
        "id": "RS33TsnV8Of3",
        "colab_type": "code",
        "outputId": "38cf956b-caac-40eb-fd48-82c99e3d548a",
        "colab": {
          "base_uri": "https://localhost:8080/",
          "height": 34
        }
      },
      "source": [
        "print(\"Some more text\")"
      ],
      "execution_count": 0,
      "outputs": [
        {
          "output_type": "stream",
          "text": [
            "Some more text\n"
          ],
          "name": "stdout"
        }
      ]
    },
    {
      "cell_type": "markdown",
      "metadata": {
        "id": "xSEPYDHp8PgI",
        "colab_type": "text"
      },
      "source": [
        "The key is to remember to include both start and finish quotes, and to keep them consistent: if you open a single quote, close with a single quote or you will get an error:\n"
      ]
    },
    {
      "cell_type": "code",
      "metadata": {
        "id": "m5ZqQBqX8Ho3",
        "colab_type": "code",
        "outputId": "a068177f-6c88-48e2-9d46-d64ce1efba71",
        "colab": {
          "base_uri": "https://localhost:8080/",
          "height": 130
        }
      },
      "source": [
        "print('This will generate an error\")"
      ],
      "execution_count": 0,
      "outputs": [
        {
          "output_type": "error",
          "ename": "SyntaxError",
          "evalue": "ignored",
          "traceback": [
            "\u001b[0;36m  File \u001b[0;32m\"<ipython-input-3-146eb5cbf00b>\"\u001b[0;36m, line \u001b[0;32m1\u001b[0m\n\u001b[0;31m    print('This will generate an error\")\u001b[0m\n\u001b[0m                                        ^\u001b[0m\n\u001b[0;31mSyntaxError\u001b[0m\u001b[0;31m:\u001b[0m EOL while scanning string literal\n"
          ]
        }
      ]
    },
    {
      "cell_type": "markdown",
      "metadata": {
        "id": "Le6PZJWm8eeY",
        "colab_type": "text"
      },
      "source": [
        "The Python interpreter will run some validation tests on your program before attempting to execute it. If there are some \"grammatical\" errors, your program will not even attempt to run but instead display an error containing information about what the interpreter didn't like."
      ]
    },
    {
      "cell_type": "markdown",
      "metadata": {
        "id": "gWr5co29-VCG",
        "colab_type": "text"
      },
      "source": [
        "#Variables\n",
        "\n",
        "A very useful feature of any programming language is the ability to store values in variables. The benefit of variables is that they can be re-used anytime after they have been defined in the program, and that their value can be changed. \n",
        "\n",
        "##Variable Names\n",
        "The programmer has a lot of freedom when defining variable names, but there are a few guidelines to follow:\n",
        "- The variable name must begin with a letter (a - z, A - B) or underscore (_)\n",
        "- Remaining characters can be letters, numbers or _\n",
        "- The variable names are Case Sensitive: `my_variable` is NOT the same as `My_Variable`\n",
        "- Variable name can be any (reasonable) length\n",
        "- Do not use reserved words. For instance, do not use a variable named `print`!\n",
        "\n",
        "\n",
        "Good Variable Name\n",
        "Choose meaningful name instead of short name. roll_no is better than rn.\n",
        "Maintain the length of a variable name. Roll_no_of_a-student is too long?\n",
        "Be consistent; roll_no or RollNo\n",
        "Begin a variable name with an underscore(_) character for a special case.\n",
        "\n",
        "A variable is a memory location where a programmer can store a value. Example : roll_no, amount, name etc.\n",
        "Value is either string, numeric etc. Example : \"Sara\", 120, 25.36\n",
        "Variables are created when first assigned.\n",
        "Variables must be assigned before being referenced.\n",
        "The value stored in a variable can be accessed or updated later.\n",
        "No declaration required\n",
        "The type (string, int, float etc.) of the variable is determined by Python\n",
        "The interpreter allocates memory on the basis of the data type of a variable.\n",
        "\n",
        "\n",
        "Once again, Python is not extremely picky when defining variables, but there are some guidelines to follow:\n",
        "\n",
        "\n",
        "1.   Don't use any system names as variables names\n",
        "2.   make sure that your variable name conforms to the acceptable guidelines for the language you use\n",
        "\n",
        "\n",
        "##Variable Assignment\n",
        "Python Assignment Statements\n",
        "The assignment statement creates new variables and gives them values. Basic assignment statement in Python is :\n",
        "\n",
        "Syntax:\n",
        "\n",
        "``` python\n",
        "<variable> = <expr>\n",
        "```\n",
        "\n"
      ]
    },
    {
      "cell_type": "code",
      "metadata": {
        "id": "pl1d-8sVBZav",
        "colab_type": "code",
        "outputId": "bb2470da-5ae7-4d18-bf47-b621cf1ae8e6",
        "colab": {
          "base_uri": "https://localhost:8080/",
          "height": 51
        }
      },
      "source": [
        "my_name = \"John\"\n",
        "my_age = 12\n",
        "print(my_age)\n",
        "print(my_name)"
      ],
      "execution_count": 0,
      "outputs": [
        {
          "output_type": "stream",
          "text": [
            "12\n",
            "John\n"
          ],
          "name": "stdout"
        }
      ]
    },
    {
      "cell_type": "markdown",
      "metadata": {
        "id": "t_0PjIDwBtBF",
        "colab_type": "text"
      },
      "source": [
        "Variables can be re-used at any time throughout the program AFTER they are defined.\n",
        "\n",
        "The `print` statement can also be used to print the value of more than one variable in a single line\n"
      ]
    },
    {
      "cell_type": "code",
      "metadata": {
        "id": "so8tkC8ZCM26",
        "colab_type": "code",
        "colab": {}
      },
      "source": [
        "print()"
      ],
      "execution_count": 0,
      "outputs": []
    },
    {
      "cell_type": "markdown",
      "metadata": {
        "id": "P_JKAlu2AR_3",
        "colab_type": "text"
      },
      "source": [
        "The value contained in a variable can also be changed at any given time.\n"
      ]
    },
    {
      "cell_type": "code",
      "metadata": {
        "id": "rvSXdZZYAS5F",
        "colab_type": "code",
        "colab": {}
      },
      "source": [
        ""
      ],
      "execution_count": 0,
      "outputs": []
    },
    {
      "cell_type": "markdown",
      "metadata": {
        "id": "CecI5h3CCN0i",
        "colab_type": "text"
      },
      "source": [
        "\n",
        "##Value Types\n",
        "\n",
        "The type (string, int, float etc.) of the variable is determined by Python and does not have to be specified.\n",
        "- String is text\n",
        "- Integer in a whole number\n",
        "- Float is a number with decimals\n",
        "\n",
        "\n",
        "**Note**:\n",
        "> A string can also contain numbers, but these numbers will be treated as text.\n",
        "\n",
        "\n",
        "\n",
        "\n",
        " \n",
        "##Operations on Variables\n",
        " \n",
        " Operators such as addition (+) and mutliplication (*) can be used on variables. The result of the operation depends on the type of the values stored in the variables.\n",
        " \n",
        " For instance, if the value stored in variable named `my_number` is an integer and we make an operation with another integer, then the result will be the arythmetic operation:"
      ]
    },
    {
      "cell_type": "code",
      "metadata": {
        "id": "7vMYnX7sAUsb",
        "colab_type": "code",
        "outputId": "5245bf7c-2e19-4f38-88d7-a7aeef1c502a",
        "colab": {
          "base_uri": "https://localhost:8080/",
          "height": 34
        }
      },
      "source": [
        "my_number = 2\n",
        "print(my_number + 2)"
      ],
      "execution_count": 0,
      "outputs": [
        {
          "output_type": "stream",
          "text": [
            "4\n"
          ],
          "name": "stdout"
        }
      ]
    },
    {
      "cell_type": "markdown",
      "metadata": {
        "id": "IcEARpbIBw9E",
        "colab_type": "text"
      },
      "source": [
        "if the value stored in variable named my_text is a string (text) and we make add another string, the result will be the *concatenation* of both strings:"
      ]
    },
    {
      "cell_type": "code",
      "metadata": {
        "id": "K6WDboBvCEBx",
        "colab_type": "code",
        "outputId": "0abd3105-21ca-4de7-fbdb-6a3b03678c5e",
        "colab": {
          "base_uri": "https://localhost:8080/",
          "height": 34
        }
      },
      "source": [
        "my_name = 'John'\n",
        "print('My name is ' + my_name)"
      ],
      "execution_count": 0,
      "outputs": [
        {
          "output_type": "stream",
          "text": [
            "My name is John\n"
          ],
          "name": "stdout"
        }
      ]
    },
    {
      "cell_type": "markdown",
      "metadata": {
        "id": "tNifrEWIBjHU",
        "colab_type": "text"
      },
      "source": [
        "Operations on values of different types will confuse Python and result in errors. For instance, let's try adding a number to text:\n",
        "\n"
      ]
    },
    {
      "cell_type": "code",
      "metadata": {
        "id": "Z-QYgSJcCZsn",
        "colab_type": "code",
        "outputId": "dada03fb-1742-4b9e-d971-1e27cad967a5",
        "colab": {
          "base_uri": "https://localhost:8080/",
          "height": 181
        }
      },
      "source": [
        "my_age = 12\n",
        "print('My age is ' + my_age)"
      ],
      "execution_count": 0,
      "outputs": [
        {
          "output_type": "error",
          "ename": "TypeError",
          "evalue": "ignored",
          "traceback": [
            "\u001b[0;31m---------------------------------------------------------------------------\u001b[0m",
            "\u001b[0;31mTypeError\u001b[0m                                 Traceback (most recent call last)",
            "\u001b[0;32m<ipython-input-3-a69662e50f55>\u001b[0m in \u001b[0;36m<module>\u001b[0;34m()\u001b[0m\n\u001b[1;32m      1\u001b[0m \u001b[0mmy_age\u001b[0m \u001b[0;34m=\u001b[0m \u001b[0;36m12\u001b[0m\u001b[0;34m\u001b[0m\u001b[0;34m\u001b[0m\u001b[0m\n\u001b[0;32m----> 2\u001b[0;31m \u001b[0mprint\u001b[0m\u001b[0;34m(\u001b[0m\u001b[0;34m'My age is '\u001b[0m \u001b[0;34m+\u001b[0m \u001b[0mmy_age\u001b[0m\u001b[0;34m)\u001b[0m\u001b[0;34m\u001b[0m\u001b[0;34m\u001b[0m\u001b[0m\n\u001b[0m",
            "\u001b[0;31mTypeError\u001b[0m: must be str, not int"
          ]
        }
      ]
    },
    {
      "cell_type": "markdown",
      "metadata": {
        "id": "ZThI18zoDeE-",
        "colab_type": "text"
      },
      "source": [
        "In order to do this, we need to tell Python that we want top treat `my_age` as text and append it to teh strine:"
      ]
    },
    {
      "cell_type": "code",
      "metadata": {
        "id": "yxg2DgThDu4p",
        "colab_type": "code",
        "outputId": "ecc26d6e-4115-4267-d81f-0a1eaff6b377",
        "colab": {
          "base_uri": "https://localhost:8080/",
          "height": 51
        }
      },
      "source": [
        "my_age = 12\n",
        "print('My age is ' + str(my_age))\n",
        "print('In two years, my age will be ' + str(my_age + 2))"
      ],
      "execution_count": 0,
      "outputs": [
        {
          "output_type": "stream",
          "text": [
            "My age is 12\n",
            "In two years, my age will be 14\n"
          ],
          "name": "stdout"
        }
      ]
    },
    {
      "cell_type": "markdown",
      "metadata": {
        "id": "KJNxzPseD42f",
        "colab_type": "text"
      },
      "source": [
        "If we were to define the variable `my_age` to contain a value defined a string, we would then work with it this way:"
      ]
    },
    {
      "cell_type": "markdown",
      "metadata": {
        "id": "HzIe5RLJEui-",
        "colab_type": "text"
      },
      "source": [
        "##Operator Precedence\n",
        "\n",
        "The same rules of arythmetic also apply to programming, multiplications and divisions take precedence over additions and substractions. This can be a little confusing at first, and it is best to group operators using parenthesis to make sure that the operations are done in the proper order.\n",
        "\n",
        "As an example:"
      ]
    },
    {
      "cell_type": "code",
      "metadata": {
        "id": "6IT_K6CFFC4d",
        "colab_type": "code",
        "outputId": "1c7a96bc-b1d6-4b9f-ff11-72925c52538c",
        "colab": {
          "base_uri": "https://localhost:8080/",
          "height": 34
        }
      },
      "source": [
        "print(2 + 2 * 3)"
      ],
      "execution_count": 0,
      "outputs": [
        {
          "output_type": "stream",
          "text": [
            "8\n"
          ],
          "name": "stdout"
        }
      ]
    },
    {
      "cell_type": "code",
      "metadata": {
        "id": "4gf5CHaxFg6m",
        "colab_type": "code",
        "outputId": "877bf635-286d-48c6-98e5-d4cf60d41ea0",
        "colab": {
          "base_uri": "https://localhost:8080/",
          "height": 34
        }
      },
      "source": [
        "print((2 + 2) * 3)"
      ],
      "execution_count": 0,
      "outputs": [
        {
          "output_type": "stream",
          "text": [
            "12\n"
          ],
          "name": "stdout"
        }
      ]
    }
  ]
}