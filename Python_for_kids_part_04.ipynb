{
  "nbformat": 4,
  "nbformat_minor": 0,
  "metadata": {
    "colab": {
      "provenance": [],
      "authorship_tag": "ABX9TyOFRuskFkhtQ4yVDJ9LtGqZ",
      "include_colab_link": true
    },
    "kernelspec": {
      "name": "python3",
      "display_name": "Python 3"
    },
    "language_info": {
      "name": "python"
    }
  },
  "cells": [
    {
      "cell_type": "markdown",
      "metadata": {
        "id": "view-in-github",
        "colab_type": "text"
      },
      "source": [
        "<a href=\"https://colab.research.google.com/github/keiki-kode/Python-for-Kids-Jupyter/blob/master/Python_for_kids_part_04.ipynb\" target=\"_parent\"><img src=\"https://colab.research.google.com/assets/colab-badge.svg\" alt=\"Open In Colab\"/></a>"
      ]
    },
    {
      "cell_type": "markdown",
      "source": [
        "This notebook is part of our [Introduction to  Computer Programming in Python for kids](https://www.keikikode.org/intro-to-python-for-kids) course.\n",
        "\n",
        "\n",
        "\n",
        "# Lesson 4: The Guessing Game"
      ],
      "metadata": {
        "id": "Ata_Ugbp9IDT"
      }
    },
    {
      "cell_type": "markdown",
      "source": [
        "The Guessing game is simple. We'll let Python select a random number, and we'll try to guess what the number is.\n",
        "\n",
        "\n",
        "## User Input\n",
        "\n",
        "The game will need to receive input from the user, this can be done with a few iPython libraries. We'll first define a text \"widget\" that will allow users to enter a number, and a button they can use to submit their entry.\n",
        "\n",
        "We'll also define a `on_button_clicked` function that will be triggered when the user submits a new value via the `on_click` call. This is called \"event-driven programming\", when we react to user input.\n"
      ],
      "metadata": {
        "id": "qDiOXOO_BOJj"
      }
    },
    {
      "cell_type": "markdown",
      "source": [],
      "metadata": {
        "id": "-omN5a_0FAPJ"
      }
    },
    {
      "cell_type": "code",
      "source": [
        "!pip3 install ipywidgets"
      ],
      "metadata": {
        "id": "pOaLJE9YoCil"
      },
      "execution_count": null,
      "outputs": []
    },
    {
      "cell_type": "code",
      "source": [
        "from ipywidgets import interact, interactive, fixed, interact_manual, widgets\n",
        "my_number = widgets.IntText(description=\"Guess a number\")\n",
        "\n",
        "button = widgets.Button(description=\"Click Me!\")\n",
        "output = widgets.Output()\n",
        "\n",
        "display(my_number, button, output)\n",
        "\n",
        "@output.capture()\n",
        "def on_button_clicked(b):\n",
        "    print(\"Button clicked.\", my_number.value)\n",
        "\n",
        "button.on_click(on_button_clicked)"
      ],
      "metadata": {
        "id": "MOh3CapnGC_h"
      },
      "execution_count": null,
      "outputs": []
    },
    {
      "cell_type": "markdown",
      "source": [
        "## Functions and Variable Scopes\n",
        "\n",
        "In the example above, we are using a function `on_button_clicked`. There is something to be aware with Python when using functions, it's called **variable scope**.\n",
        "\n",
        "⚠ Variable scope is almost like traveling to a different dimension. You can use a variable, let's call it `my_variable`, in `function1`, and what you think is the same `my_variable`, in `function2`, but they are **NOT** the same. If you change the value of `my_variable` in `function1`, it will have no changes to the value of `my_variable` in `function2`. In fact, each time the functions are called, the variable is a different variable (but has the same name)! The program doesn't remember the value it had the last time the function was called.\n",
        "\n",
        "\n",
        "\n",
        "👉_ Let's see it in action:"
      ],
      "metadata": {
        "id": "Yes_boLlD9bj"
      }
    },
    {
      "cell_type": "code",
      "source": [
        "my_variable = 'Variable content'\n",
        "\n",
        "def function1():\n",
        "  print('In function1.')\n",
        "  print(A)\n",
        "  print('Leaving function1.')\n",
        "\n",
        "def function2():\n",
        "  print('In function2.')\n",
        "  A = \"This is function2's text message.\"\n",
        "  print(A)\n",
        "  print('Leaving function2.')\n",
        "\n",
        "\n",
        "function1()\n",
        "print('Back in main')\n",
        "print(A)\n",
        "print()\n",
        "function2()\n",
        "print('Back in main')\n",
        "print(A)\n"
      ],
      "metadata": {
        "id": "5AxrCqk9EKt8"
      },
      "execution_count": null,
      "outputs": []
    },
    {
      "cell_type": "markdown",
      "source": [
        "\n",
        "\n",
        "Confusing, I know. The best way to have a value persist is to define in **outside** of the function, in the main Python code, and to use the `global` keyword **inside** of. your function, to tell Python that we want to reference the main variable.\n",
        "\n",
        "\n",
        "👉_ Let's see the difference:\n"
      ],
      "metadata": {
        "id": "FVUB4S_Hidku"
      }
    },
    {
      "cell_type": "code",
      "source": [
        "my_variable = 'Variable content'\n",
        "\n",
        "def function1():\n",
        "  global my_variable\n",
        "  print('In function1.')\n",
        "  print(A)\n",
        "  print('Leaving function1.')\n",
        "\n",
        "def function2():\n",
        "  global my_variable\n",
        "  print('In function2.')\n",
        "  A = \"This is function2's text message.\"\n",
        "  print(A)\n",
        "  print('Leaving function2.')\n",
        "\n",
        "\n",
        "function1()\n",
        "print('Back in main')\n",
        "print(A)\n",
        "print()\n",
        "function2()\n",
        "print('Back in main')\n",
        "print(A)\n"
      ],
      "metadata": {
        "id": "0ju3bfiRid3X"
      },
      "execution_count": null,
      "outputs": []
    },
    {
      "cell_type": "markdown",
      "source": [
        "\n",
        "\n",
        "## Random Value\n",
        "\n",
        "As we have already seen in a previous lesson, getting a random number in Python is easy, we'll just use the random library, and use a variable to store that value:\n",
        "\n",
        "```\n",
        "import random\n",
        "my_random_number = random.randint(1,101)\n",
        "```\n",
        "\n",
        "\n",
        "## Boolean Logic\n",
        "\n",
        "\n",
        "Now, we know the random number, and we have the number that the user has guessed, we need to compare these two values. The comparison is done with the Python `if` statement:\n",
        "\n",
        "```\n",
        "if user_value = random_number:\n",
        "```\n",
        "\n",
        "The result of an `if` comparison is a Python `boolean` type, which can only have two possible values: `True` or `False`.\n",
        "\n",
        "\n",
        "The line after the `if` statement **will only be executed** if the result is `True`.\n",
        "\n",
        "> ⚠ Python uses a special notation to evaluate if two things are equal: **two** equals signs together, like this: `==`. To test whether `my_variable` contains the value `1` you would type: `my_variable == 1`. `my_variable = 1` would **assign** the value of `1` to `my_variable`.\n",
        "\n",
        "👉_ Let's see it in action:\n"
      ],
      "metadata": {
        "id": "9VYyn0lbAHIm"
      }
    },
    {
      "cell_type": "code",
      "source": [
        "if 3 > 5:\n",
        "  print('The condition is False')"
      ],
      "metadata": {
        "id": "QyNNzOQy4EHP"
      },
      "execution_count": null,
      "outputs": []
    },
    {
      "cell_type": "code",
      "source": [
        "if 3 < 5:\n",
        "  print('The condition is True')"
      ],
      "metadata": {
        "id": "JQRhWrlF4lk2"
      },
      "execution_count": null,
      "outputs": []
    },
    {
      "cell_type": "markdown",
      "source": [
        "👉_ There can also be an else that will be executed if the condition is False:"
      ],
      "metadata": {
        "id": "Z69-wA2b46JY"
      }
    },
    {
      "cell_type": "code",
      "source": [
        "if 3 > 5:\n",
        "  print('The condition is True')\n",
        "else:\n",
        "  print('The condition is False')"
      ],
      "metadata": {
        "id": "W_-XToLH5AaE"
      },
      "execution_count": null,
      "outputs": []
    },
    {
      "cell_type": "markdown",
      "source": [
        "\n",
        "\n",
        "A simple version will have an if, that will be executed only if the condition is True. There can also be an else that will be executed if the condition is False:\n",
        "\n",
        "if altitude <= 0:\n",
        "    print(\"You have crashed\")\n",
        "else:\n",
        "    print(\"Still in space\")\n"
      ],
      "metadata": {
        "id": "aM9RUj5x4KvT"
      }
    },
    {
      "cell_type": "markdown",
      "source": [
        "## The Guessing Game\n",
        "\n",
        "👉_ Now that we have all the pieces, let's put it all together!\n",
        "\n",
        "\n"
      ],
      "metadata": {
        "id": "zUad53bm1utx"
      }
    },
    {
      "cell_type": "code",
      "source": [
        "from ipywidgets import interact, interactive, fixed, interact_manual, widgets\n",
        "\n",
        "import random\n",
        "\n",
        "user_guess = 0\n",
        "my_random_number = random.randint(1,51)\n",
        "\n",
        "\n",
        "my_number = widgets.IntText(description=\"Guess a number\")\n",
        "\n",
        "button = widgets.Button(description=\"Is this right?\")\n",
        "output = widgets.Output()\n",
        "\n",
        "display(my_number, button, output)\n",
        "\n",
        "@output.capture()\n",
        "def on_button_clicked(b):\n",
        "  global user_guess, my_random_number\n",
        "  user_guess = my_number.value\n",
        "  print(\"You Guessed\", user_guess)\n",
        "  if user_guess == my_random_number:\n",
        "    print('You Guessed Right!')\n",
        "  else:\n",
        "    print('You Guessed Wrong!')\n",
        "\n",
        "\n",
        "button.on_click(on_button_clicked)"
      ],
      "metadata": {
        "id": "j5MY_Yuy6cwX"
      },
      "execution_count": null,
      "outputs": []
    },
    {
      "cell_type": "markdown",
      "source": [
        "\n",
        "Ok, this works, but this game isn't much fun. We need to give user a hint, is the number higher, or lower than their guess.\n",
        "\n",
        "👉_ Let's try that with additional comparisons and better feedback:\n"
      ],
      "metadata": {
        "id": "-Ao6bjTn_yre"
      }
    },
    {
      "cell_type": "code",
      "source": [
        "from ipywidgets import interact, interactive, fixed, interact_manual, widgets\n",
        "\n",
        "import random\n",
        "\n",
        "user_guess = 0\n",
        "my_random_number = random.randint(1,100)\n",
        "\n",
        "\n",
        "my_number = widgets.IntText(description=\"Guess a number\")\n",
        "\n",
        "button = widgets.Button(description=\"Click Me!\")\n",
        "output = widgets.Output()\n",
        "\n",
        "display(my_number, button, output)\n",
        "\n",
        "@output.capture()\n",
        "def on_button_clicked(b):\n",
        "  global user_guess, my_random_number\n",
        "  user_guess = my_number.value\n",
        "  print(\"You Guessed\", user_guess)\n",
        "  if user_guess == my_random_number:\n",
        "    print('You Guessed Right!')\n",
        "  if user_guess < my_random_number:\n",
        "    print('Higher')\n",
        "  if user_guess > my_random_number:\n",
        "    print('Lower')\n",
        "button.on_click(on_button_clicked)\n",
        "\n"
      ],
      "metadata": {
        "id": "iG0Fk-ED_QB4"
      },
      "execution_count": null,
      "outputs": []
    },
    {
      "cell_type": "markdown",
      "source": [
        "💡 Challenge: Try making the game even more fun. If the user's guess is more then 10 digits lower or greater than the random number, tell them \"Much Higher\" or \"Much Lower\"."
      ],
      "metadata": {
        "id": "llJsk_tdImpR"
      }
    }
  ]
}