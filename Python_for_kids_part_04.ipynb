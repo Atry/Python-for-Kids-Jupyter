{
  "nbformat": 4,
  "nbformat_minor": 0,
  "metadata": {
    "colab": {
      "provenance": [],
      "authorship_tag": "ABX9TyNKJLekRoSFwpnWx0YWe1Ev",
      "include_colab_link": true
    },
    "kernelspec": {
      "name": "python3",
      "display_name": "Python 3"
    },
    "language_info": {
      "name": "python"
    }
  },
  "cells": [
    {
      "cell_type": "markdown",
      "metadata": {
        "id": "view-in-github",
        "colab_type": "text"
      },
      "source": [
        "<a href=\"https://colab.research.google.com/github/keiki-kode/Python-for-Kids-Jupyter/blob/master/Python_for_kids_part_04.ipynb\" target=\"_parent\"><img src=\"https://colab.research.google.com/assets/colab-badge.svg\" alt=\"Open In Colab\"/></a>"
      ]
    },
    {
      "cell_type": "markdown",
      "source": [
        "This notebook is part of our [Introduction to  Computer Programming in Python for kids](https://www.keikikode.org/intro-to-python-for-kids) course.\n",
        "\n",
        "\n",
        "\n",
        "# Lesson 4: Lunar Lander Text Game"
      ],
      "metadata": {
        "id": "Ata_Ugbp9IDT"
      }
    },
    {
      "cell_type": "markdown",
      "source": [
        "> This lesson is inspired by a classic game, you can learn more on [Wikipedia](https://en.wikipedia.org/wiki/Lunar_Lander_(video_game_genre)).\n",
        "\n",
        "The Lunar Lander Text game is simple. It requires the player to control a rocket attempting to land on the moon by entering instructions to the rocket in a turn-based system in response to the textual summary of its current position and velocity relative to the ground.\n",
        "\n",
        "In the original Lunar, players controlled only the amount of vertical thrust to apply, based on their current vertical velocity and remaining fuel, with each round representing one second of travel time. Rocket added a simple text-based graphical display of the distance from the ground in each round, while LEM added horizontal velocity and the ability to apply thrust at an angle.\n",
        "\n",
        "\n",
        "## User Input\n",
        "\n",
        "The game will need to receive input from the user, this can be done with a few iPython libraries. We'll first define a text \"widget\" that will allow users to enter text, and a button they can use to submit their entry.\n",
        "\n",
        "We'll also define a `on_button_clicked` function that will be triggered when the user submits a new value via the `on_click` call. This is called \"event-driven programming\", when we react to user input.\n"
      ],
      "metadata": {
        "id": "qDiOXOO_BOJj"
      }
    },
    {
      "cell_type": "markdown",
      "source": [],
      "metadata": {
        "id": "-omN5a_0FAPJ"
      }
    },
    {
      "cell_type": "code",
      "source": [
        "from ipywidgets import interact, interactive, fixed, interact_manual\n",
        "text = widgets.Text(description=\"Text\")\n",
        "\n",
        "button = widgets.Button(description=\"Click Me!\")\n",
        "output = widgets.Output()\n",
        "\n",
        "display(text, button, output)\n",
        "\n",
        "@output.capture()\n",
        "def on_button_clicked(b):\n",
        "    print(\"Button clicked.\", text.value)\n",
        "\n",
        "button.on_click(on_button_clicked)"
      ],
      "metadata": {
        "id": "MOh3CapnGC_h"
      },
      "execution_count": null,
      "outputs": []
    },
    {
      "cell_type": "markdown",
      "source": [
        "The goal of the game is to reduce the speed sufficently to achieve a \"soft\" landing at a reasonable speed.\n",
        "\n",
        "\n",
        "## Variables\n",
        "\n",
        "We'll need to use a few variables to keep track of a few parameters of our lander. We won't be using accurate Physics for this game, but we'll be tracking the `speed` of the lander as it races closer to the moon, the `altitude` of the lander relative to the surface of the moon, and the amount of `fuel` left on the lander.\n",
        "\n",
        "The moon `gravity` will also be a constant, and the `burn` variable will be given by the user. Each burn value will reduce the speed, and use a certain amount of fuel.\n",
        "\n",
        "\n",
        "Since we will ba adjusting the value of these variables quite a bit, you should learn a Python shortcut.\n",
        "\n",
        "If we define a variable and want to adjust its value based on the current value, we would use something like:\n",
        "\n",
        "```\n",
        "myValue = myValue + 1\n",
        "```\n",
        "\n",
        "An equivalent but shorter way to do this in Python is to add the operation before the `=` sign:\n",
        "```\n",
        "myValue += 1\n",
        "```\n",
        "\n",
        "Also, since we defined the initial values of these variables outside of the function, we'll use the `global` keyword to ensure that the function uses these variables, and doesn't create a `local` version of these variables.\n",
        "\n",
        "## Printing Text\n",
        "\n",
        "For printing text, we'll use [Python f-strings](https://technotes.videre.us/en/python/awesome-python-f-strings/), which offers an easy and powerful way to combine static text and the contant of our variables.\n",
        "\n",
        "\n",
        "```\n",
        "print(\"My value:\", myValue)\n",
        "```\n",
        "\n",
        "is equivalent to:\n",
        "```\n",
        "print(f\"My value: {myValue})\n",
        "```\n",
        "\n",
        "Notice the `f` before the quote, and the `{`curly brackets`}` around the variable.\n",
        "\n",
        "\n",
        "## If statements for comparing values\n",
        "\n",
        "If statements are used to compare two values, and take action based on the result of that comparison. Python uses indentation to control these statements.\n",
        "\n",
        "A simple version will have an `if`, that will be executed only if the condition is `True`. There can also be an `else` that will be executed if the condition is `False`:\n",
        "\n",
        "```\n",
        "if altitude <= 0:\n",
        "    print(\"You have crashed\")\n",
        "else:\n",
        "    print(\"Still in space\")\n",
        "\n",
        "```\n",
        "\n",
        "Logical statements can be combined via `and` and `or` statements.\n",
        "- For `and` statements, the condition will be `True` only if *both conditions* are `True`.\n",
        "- For `or` statements, the condition will be `True` only if *either* condition (or both) are `True`.\n",
        "\n",
        "```\n",
        "if altitude <= 0 and speed > 5\n",
        "```\n",
        "\n",
        "Additional comparison can be added in the form of `elif` statements, which are short for `else if`.\n",
        "\n",
        "## The Game\n",
        "\n",
        "You are the pilot and need to control how much fuel you burn in the\n",
        "retro rockets so that your descent speed slows to zero just as your\n",
        "altitude above the moon's surface reaches zero. If you reach the moon\n",
        "with a speed greater than 5 m/s then you have considered to have crashed.\n",
        "Otherwise, you will have a successful landing.\n",
        "If you run out of fuel, the spaceship will accelerate towards the moon by gravity.\n",
        "\n",
        "\n",
        "👉_ We'll start with arbitrary values for our variables, feel free to change them and experiment to see how they can change the game:\n"
      ],
      "metadata": {
        "id": "9VYyn0lbAHIm"
      }
    },
    {
      "cell_type": "code",
      "source": [
        "from ipywidgets import interact, interactive, fixed, interact_manual\n",
        "\n",
        "text = widgets.FloatText(description=\"Fuel burn:\")\n",
        "button = widgets.Button(description=\"Burn Control\", icon=\"warning\")\n",
        "output = widgets.Output()\n",
        "display(text, button, output)\n",
        "\n",
        "\n",
        "# CHANGE THE SPEED, FUEL, AND ALTITUDE VARIABLES TO YOUR LIKING\n",
        "speed = 20      # speed approaching the moon\n",
        "fuel = 1500     # how much fuel is left\n",
        "altitude = 100  # altitude above moon\n",
        "gravity = 1     # acceleration due to gravity\n",
        "\n",
        "\n",
        "@output.capture()\n",
        "def on_button_clicked(b):\n",
        "    global fuel, altitude, speed, gravity\n",
        "    burn = text.value\n",
        "    # we can't burn more fuel than we have\n",
        "    if burn > fuel:\n",
        "       burn = fuel\n",
        "    # calculate the new flight data\n",
        "    impact = altitude / speed\n",
        "    altitude -= speed\n",
        "    speed += gravity - burn/10\n",
        "    fuel -= burn\n",
        "    # display good landing or not\n",
        "    print(f'Altitude = {altitude} Speed = {speed}, Fuel = {fuel} Impact = {impact}, Burn = {burn}')\n",
        "    if altitude <= 0 and speed > 5:\n",
        "      print(\"You have crashed\")\n",
        "      b.icon=\"explosion\"\n",
        "      b.disabled = True\n",
        "    elif altitude <= 0 and speed <= 5:\n",
        "      print(\"You have landed\")\n",
        "      b.icon=\"moon\"\n",
        "      b.disabled = True\n",
        "    else:\n",
        "      # We're still in space\n",
        "      b.icon=\"rocket\"\n",
        "\n",
        "button.on_click(on_button_clicked)"
      ],
      "metadata": {
        "id": "cGfgOLV2M-88"
      },
      "execution_count": null,
      "outputs": []
    },
    {
      "cell_type": "markdown",
      "source": [
        "💡 Challenge: Landing a real spacecraft on the surface of another planet is obviously way more complicated then this, you can learn more on JPL's [Code a Mars Landing](https://www.jpl.nasa.gov/edu/learn/project/code-a-mars-landing/) project!"
      ],
      "metadata": {
        "id": "llJsk_tdImpR"
      }
    }
  ]
}